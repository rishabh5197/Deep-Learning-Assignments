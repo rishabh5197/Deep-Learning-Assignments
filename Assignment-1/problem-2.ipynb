{
 "cells": [
  {
   "cell_type": "code",
   "execution_count": 1,
   "id": "adolescent-encyclopedia",
   "metadata": {},
   "outputs": [],
   "source": [
    "# Name :- Rishabh Sharma\n",
    "# Registration Number :- 20MAI0082\n",
    "# Github Link :- https://github.com/rishabh5197/Deep-Learning-Assignments"
   ]
  },
  {
   "cell_type": "code",
   "execution_count": 2,
   "id": "private-business",
   "metadata": {},
   "outputs": [],
   "source": [
    "import pandas as pd\n",
    "read = pd.read_csv('Social_Network_Ads.csv')"
   ]
  },
  {
   "cell_type": "code",
   "execution_count": 3,
   "id": "exempt-thriller",
   "metadata": {},
   "outputs": [
    {
     "name": "stdout",
     "output_type": "stream",
     "text": [
      "User ID\n",
      "Gender\n",
      "Age\n",
      "EstimatedSalary\n",
      "Purchased\n"
     ]
    }
   ],
   "source": [
    "for i in read:\n",
    "    print(i)"
   ]
  },
  {
   "cell_type": "code",
   "execution_count": 4,
   "id": "curious-infection",
   "metadata": {},
   "outputs": [],
   "source": [
    "x=read[['User ID','Gender','Age','EstimatedSalary']]\n",
    "y=read[['Purchased']]"
   ]
  },
  {
   "cell_type": "code",
   "execution_count": 5,
   "id": "terminal-enough",
   "metadata": {},
   "outputs": [
    {
     "data": {
      "text/html": [
       "<div>\n",
       "<style scoped>\n",
       "    .dataframe tbody tr th:only-of-type {\n",
       "        vertical-align: middle;\n",
       "    }\n",
       "\n",
       "    .dataframe tbody tr th {\n",
       "        vertical-align: top;\n",
       "    }\n",
       "\n",
       "    .dataframe thead th {\n",
       "        text-align: right;\n",
       "    }\n",
       "</style>\n",
       "<table border=\"1\" class=\"dataframe\">\n",
       "  <thead>\n",
       "    <tr style=\"text-align: right;\">\n",
       "      <th></th>\n",
       "      <th>User ID</th>\n",
       "      <th>Gender</th>\n",
       "      <th>Age</th>\n",
       "      <th>EstimatedSalary</th>\n",
       "    </tr>\n",
       "  </thead>\n",
       "  <tbody>\n",
       "    <tr>\n",
       "      <th>0</th>\n",
       "      <td>15624510</td>\n",
       "      <td>Male</td>\n",
       "      <td>19</td>\n",
       "      <td>19000</td>\n",
       "    </tr>\n",
       "    <tr>\n",
       "      <th>1</th>\n",
       "      <td>15810944</td>\n",
       "      <td>Male</td>\n",
       "      <td>35</td>\n",
       "      <td>20000</td>\n",
       "    </tr>\n",
       "    <tr>\n",
       "      <th>2</th>\n",
       "      <td>15668575</td>\n",
       "      <td>Female</td>\n",
       "      <td>26</td>\n",
       "      <td>43000</td>\n",
       "    </tr>\n",
       "    <tr>\n",
       "      <th>3</th>\n",
       "      <td>15603246</td>\n",
       "      <td>Female</td>\n",
       "      <td>27</td>\n",
       "      <td>57000</td>\n",
       "    </tr>\n",
       "    <tr>\n",
       "      <th>4</th>\n",
       "      <td>15804002</td>\n",
       "      <td>Male</td>\n",
       "      <td>19</td>\n",
       "      <td>76000</td>\n",
       "    </tr>\n",
       "  </tbody>\n",
       "</table>\n",
       "</div>"
      ],
      "text/plain": [
       "    User ID  Gender  Age  EstimatedSalary\n",
       "0  15624510    Male   19            19000\n",
       "1  15810944    Male   35            20000\n",
       "2  15668575  Female   26            43000\n",
       "3  15603246  Female   27            57000\n",
       "4  15804002    Male   19            76000"
      ]
     },
     "execution_count": 5,
     "metadata": {},
     "output_type": "execute_result"
    }
   ],
   "source": [
    "x.head()"
   ]
  },
  {
   "cell_type": "code",
   "execution_count": 6,
   "id": "enhanced-street",
   "metadata": {},
   "outputs": [
    {
     "data": {
      "text/html": [
       "<div>\n",
       "<style scoped>\n",
       "    .dataframe tbody tr th:only-of-type {\n",
       "        vertical-align: middle;\n",
       "    }\n",
       "\n",
       "    .dataframe tbody tr th {\n",
       "        vertical-align: top;\n",
       "    }\n",
       "\n",
       "    .dataframe thead th {\n",
       "        text-align: right;\n",
       "    }\n",
       "</style>\n",
       "<table border=\"1\" class=\"dataframe\">\n",
       "  <thead>\n",
       "    <tr style=\"text-align: right;\">\n",
       "      <th></th>\n",
       "      <th>Purchased</th>\n",
       "    </tr>\n",
       "  </thead>\n",
       "  <tbody>\n",
       "    <tr>\n",
       "      <th>0</th>\n",
       "      <td>0</td>\n",
       "    </tr>\n",
       "    <tr>\n",
       "      <th>1</th>\n",
       "      <td>0</td>\n",
       "    </tr>\n",
       "    <tr>\n",
       "      <th>2</th>\n",
       "      <td>0</td>\n",
       "    </tr>\n",
       "    <tr>\n",
       "      <th>3</th>\n",
       "      <td>0</td>\n",
       "    </tr>\n",
       "    <tr>\n",
       "      <th>4</th>\n",
       "      <td>0</td>\n",
       "    </tr>\n",
       "  </tbody>\n",
       "</table>\n",
       "</div>"
      ],
      "text/plain": [
       "   Purchased\n",
       "0          0\n",
       "1          0\n",
       "2          0\n",
       "3          0\n",
       "4          0"
      ]
     },
     "execution_count": 6,
     "metadata": {},
     "output_type": "execute_result"
    }
   ],
   "source": [
    "y.head()"
   ]
  },
  {
   "cell_type": "code",
   "execution_count": 7,
   "id": "eastern-classics",
   "metadata": {},
   "outputs": [
    {
     "name": "stdout",
     "output_type": "stream",
     "text": [
      "(400, 4)\n",
      "(400, 1)\n"
     ]
    }
   ],
   "source": [
    "print(x.shape)\n",
    "print(y.shape)"
   ]
  },
  {
   "cell_type": "code",
   "execution_count": 8,
   "id": "intelligent-catholic",
   "metadata": {},
   "outputs": [
    {
     "name": "stderr",
     "output_type": "stream",
     "text": [
      "<ipython-input-8-61b70f1f099f>:3: SettingWithCopyWarning: \n",
      "A value is trying to be set on a copy of a slice from a DataFrame.\n",
      "Try using .loc[row_indexer,col_indexer] = value instead\n",
      "\n",
      "See the caveats in the documentation: https://pandas.pydata.org/pandas-docs/stable/user_guide/indexing.html#returning-a-view-versus-a-copy\n",
      "  x['Gender']=le.fit_transform(x['Gender'])\n"
     ]
    }
   ],
   "source": [
    "from sklearn.preprocessing import LabelEncoder\n",
    "le = LabelEncoder()\n",
    "x['Gender']=le.fit_transform(x['Gender'])"
   ]
  },
  {
   "cell_type": "code",
   "execution_count": 9,
   "id": "adequate-transcript",
   "metadata": {},
   "outputs": [
    {
     "name": "stderr",
     "output_type": "stream",
     "text": [
      "C:\\Users\\Emirates\\anaconda3\\lib\\site-packages\\sklearn\\utils\\validation.py:72: DataConversionWarning: A column-vector y was passed when a 1d array was expected. Please change the shape of y to (n_samples, ), for example using ravel().\n",
      "  return f(**kwargs)\n"
     ]
    },
    {
     "name": "stdout",
     "output_type": "stream",
     "text": [
      "xtrain.shape :-  (360, 4)\n",
      "xtest.shape :-  (40, 4)\n",
      "ytrain.shape :-  (360, 1)\n",
      "xtest.shape :-  (40, 1)\n",
      "[1 1 1 1 1 1 1 1 1 1 1 1 1 1 1 1 1 1 1 1 1 1 1 1 1 1 1 1 1 1 1 1 1 1 1 1 1\n",
      " 1 1 1]\n",
      "[[ 0  0]\n",
      " [32  8]]\n",
      "0.2\n"
     ]
    }
   ],
   "source": [
    "from sklearn.model_selection import train_test_split\n",
    "from sklearn.neural_network import MLPClassifier\n",
    "from sklearn.metrics import accuracy_score,plot_confusion_matrix,accuracy_score\n",
    "xtrain,xtest,ytrain,ytest = train_test_split(x,y,test_size=0.1,random_state = 0)\n",
    "print('xtrain.shape :- ',xtrain.shape)\n",
    "print('xtest.shape :- ',xtest.shape)\n",
    "print('ytrain.shape :- ',ytrain.shape)\n",
    "print('xtest.shape :- ',ytest.shape)\n",
    "model = MLPClassifier((5,500),max_iter=300)\n",
    "model.fit(xtrain,ytrain)\n",
    "ypredict = model.predict(xtest)\n",
    "print(ypredict)\n",
    "from sklearn.metrics import confusion_matrix,plot_confusion_matrix\n",
    "print(confusion_matrix(ypredict,ytest))\n",
    "print(accuracy_score(ypredict,ytest))"
   ]
  },
  {
   "cell_type": "code",
   "execution_count": 10,
   "id": "plain-workstation",
   "metadata": {},
   "outputs": [
    {
     "name": "stdout",
     "output_type": "stream",
     "text": [
      "xtrain.shape :-  (320, 4)\n",
      "xtest.shape :-  (80, 4)\n",
      "ytrain.shape :-  (320, 1)\n",
      "xtest.shape :-  (80, 1)\n",
      "[1 1 1 1 1 1 1 1 1 1 1 1 1 1 1 1 1 1 1 1 1 1 1 1 1 1 1 1 1 1 1 1 1 1 1 1 1\n",
      " 1 1 1 1 1 1 1 1 1 1 1 1 1 1 1 1 1 1 1 1 1 1 1 1 1 1 1 1 1 1 1 1 1 1 1 1 1\n",
      " 1 1 1 1 1 1]\n",
      "[[ 0  0]\n",
      " [58 22]]\n",
      "0.275\n"
     ]
    },
    {
     "name": "stderr",
     "output_type": "stream",
     "text": [
      "C:\\Users\\Emirates\\anaconda3\\lib\\site-packages\\sklearn\\utils\\validation.py:72: DataConversionWarning: A column-vector y was passed when a 1d array was expected. Please change the shape of y to (n_samples, ), for example using ravel().\n",
      "  return f(**kwargs)\n"
     ]
    }
   ],
   "source": [
    "from sklearn.model_selection import train_test_split\n",
    "from sklearn.neural_network import MLPClassifier\n",
    "xtrain,xtest,ytrain,ytest = train_test_split(x,y,test_size=0.2,random_state = 0)\n",
    "print('xtrain.shape :- ',xtrain.shape)\n",
    "print('xtest.shape :- ',xtest.shape)\n",
    "print('ytrain.shape :- ',ytrain.shape)\n",
    "print('xtest.shape :- ',ytest.shape)\n",
    "model = MLPClassifier((5,500),max_iter=300)\n",
    "model.fit(xtrain,ytrain)\n",
    "ypredict = model.predict(xtest)\n",
    "print(ypredict)\n",
    "from sklearn.metrics import confusion_matrix,plot_confusion_matrix\n",
    "print(confusion_matrix(ypredict,ytest))\n",
    "print(accuracy_score(ypredict,ytest))"
   ]
  },
  {
   "cell_type": "code",
   "execution_count": 11,
   "id": "horizontal-nigeria",
   "metadata": {},
   "outputs": [
    {
     "name": "stdout",
     "output_type": "stream",
     "text": [
      "xtrain.shape :-  (280, 4)\n",
      "xtest.shape :-  (120, 4)\n",
      "ytrain.shape :-  (280, 1)\n",
      "xtest.shape :-  (120, 1)\n"
     ]
    },
    {
     "name": "stderr",
     "output_type": "stream",
     "text": [
      "C:\\Users\\Emirates\\anaconda3\\lib\\site-packages\\sklearn\\utils\\validation.py:72: DataConversionWarning: A column-vector y was passed when a 1d array was expected. Please change the shape of y to (n_samples, ), for example using ravel().\n",
      "  return f(**kwargs)\n"
     ]
    },
    {
     "name": "stdout",
     "output_type": "stream",
     "text": [
      "[0 0 0 0 0 0 0 0 0 0 0 0 0 0 0 0 0 0 0 0 0 0 0 0 0 0 0 0 0 0 0 0 0 0 0 0 0\n",
      " 0 0 0 0 0 0 0 0 0 0 0 0 0 0 0 0 0 0 0 0 0 0 0 0 0 0 0 0 0 0 0 0 0 0 0 0 0\n",
      " 0 0 0 0 0 0 0 0 0 0 0 0 0 0 0 0 0 0 0 0 0 0 0 0 0 0 0 0 0 0 0 0 0 0 0 0 0\n",
      " 0 0 0 0 0 0 0 0 0]\n",
      "[[79 41]\n",
      " [ 0  0]]\n",
      "0.6583333333333333\n"
     ]
    }
   ],
   "source": [
    "from sklearn.model_selection import train_test_split\n",
    "from sklearn.neural_network import MLPClassifier\n",
    "xtrain,xtest,ytrain,ytest = train_test_split(x,y,test_size=0.3,random_state = 0)\n",
    "print('xtrain.shape :- ',xtrain.shape)\n",
    "print('xtest.shape :- ',xtest.shape)\n",
    "print('ytrain.shape :- ',ytrain.shape)\n",
    "print('xtest.shape :- ',ytest.shape)\n",
    "model = MLPClassifier((5,500),max_iter=300)\n",
    "model.fit(xtrain,ytrain)\n",
    "ypredict = model.predict(xtest)\n",
    "print(ypredict)\n",
    "from sklearn.metrics import confusion_matrix,plot_confusion_matrix\n",
    "print(confusion_matrix(ypredict,ytest))\n",
    "print(accuracy_score(ypredict,ytest))"
   ]
  },
  {
   "cell_type": "code",
   "execution_count": 12,
   "id": "juvenile-behavior",
   "metadata": {},
   "outputs": [
    {
     "name": "stderr",
     "output_type": "stream",
     "text": [
      "C:\\Users\\Emirates\\anaconda3\\lib\\site-packages\\sklearn\\utils\\validation.py:72: DataConversionWarning: A column-vector y was passed when a 1d array was expected. Please change the shape of y to (n_samples, ), for example using ravel().\n",
      "  return f(**kwargs)\n"
     ]
    },
    {
     "name": "stdout",
     "output_type": "stream",
     "text": [
      "xtrain.shape :-  (240, 4)\n",
      "xtest.shape :-  (160, 4)\n",
      "ytrain.shape :-  (240, 1)\n",
      "xtest.shape :-  (160, 1)\n",
      "[1 1 1 1 1 1 1 1 1 1 1 1 1 1 1 1 1 1 1 1 1 1 1 1 1 1 1 1 1 1 1 1 1 1 1 1 1\n",
      " 1 1 1 1 1 1 1 1 1 1 1 1 1 1 1 1 1 1 1 1 1 1 1 1 1 1 1 1 1 1 1 1 1 1 1 1 1\n",
      " 1 1 1 1 1 1 1 1 1 1 1 1 1 1 1 1 1 1 1 1 1 1 1 1 1 1 1 1 1 1 1 1 1 1 1 1 1\n",
      " 1 1 1 1 1 1 1 1 1 1 1 1 1 1 1 1 1 1 1 1 1 1 1 1 1 1 1 1 1 1 1 1 1 1 1 1 1\n",
      " 1 1 1 1 1 1 1 1 1 1 1 1]\n",
      "[[  0   0]\n",
      " [101  59]]\n",
      "0.36875\n"
     ]
    }
   ],
   "source": [
    "from sklearn.model_selection import train_test_split\n",
    "from sklearn.neural_network import MLPClassifier\n",
    "xtrain,xtest,ytrain,ytest = train_test_split(x,y,test_size=0.4,random_state = 0)\n",
    "print('xtrain.shape :- ',xtrain.shape)\n",
    "print('xtest.shape :- ',xtest.shape)\n",
    "print('ytrain.shape :- ',ytrain.shape)\n",
    "print('xtest.shape :- ',ytest.shape)\n",
    "model = MLPClassifier((5,500),max_iter=300)\n",
    "model.fit(xtrain,ytrain)\n",
    "ypredict = model.predict(xtest)\n",
    "print(ypredict)\n",
    "from sklearn.metrics import confusion_matrix,plot_confusion_matrix\n",
    "print(confusion_matrix(ypredict,ytest))\n",
    "print(accuracy_score(ypredict,ytest))"
   ]
  },
  {
   "cell_type": "code",
   "execution_count": 13,
   "id": "accompanied-cowboy",
   "metadata": {},
   "outputs": [
    {
     "name": "stdout",
     "output_type": "stream",
     "text": [
      "xtrain.shape :-  (200, 4)\n",
      "xtest.shape :-  (200, 4)\n",
      "ytrain.shape :-  (200, 1)\n",
      "xtest.shape :-  (200, 1)\n"
     ]
    },
    {
     "name": "stderr",
     "output_type": "stream",
     "text": [
      "C:\\Users\\Emirates\\anaconda3\\lib\\site-packages\\sklearn\\utils\\validation.py:72: DataConversionWarning: A column-vector y was passed when a 1d array was expected. Please change the shape of y to (n_samples, ), for example using ravel().\n",
      "  return f(**kwargs)\n"
     ]
    },
    {
     "name": "stdout",
     "output_type": "stream",
     "text": [
      "[0 0 0 0 0 0 0 0 0 0 0 0 0 0 0 0 0 0 0 0 0 0 0 0 0 0 0 0 0 0 0 0 0 0 0 0 0\n",
      " 0 0 0 0 0 0 0 0 0 0 0 0 0 0 0 0 0 0 0 0 0 0 0 0 0 0 0 0 0 0 0 0 0 0 0 0 0\n",
      " 0 0 0 0 0 0 0 0 0 0 0 0 0 0 0 0 0 0 0 0 0 0 0 0 0 0 0 0 0 0 0 0 0 0 0 0 0\n",
      " 0 0 0 0 0 0 0 0 0 0 0 0 0 0 0 0 0 0 0 0 0 0 0 0 0 0 0 0 0 0 0 0 0 0 0 0 0\n",
      " 0 0 0 0 0 0 0 0 0 0 0 0 0 0 0 0 0 0 0 0 0 0 0 0 0 0 0 0 0 0 0 0 0 0 0 0 0\n",
      " 0 0 0 0 0 0 0 0 0 0 0 0 0 0 0]\n",
      "[[123  77]\n",
      " [  0   0]]\n",
      "0.615\n"
     ]
    }
   ],
   "source": [
    "from sklearn.model_selection import train_test_split\n",
    "from sklearn.neural_network import MLPClassifier\n",
    "xtrain,xtest,ytrain,ytest = train_test_split(x,y,test_size=0.5,random_state = 0)\n",
    "print('xtrain.shape :- ',xtrain.shape)\n",
    "print('xtest.shape :- ',xtest.shape)\n",
    "print('ytrain.shape :- ',ytrain.shape)\n",
    "print('xtest.shape :- ',ytest.shape)\n",
    "model = MLPClassifier((5,500),max_iter=300)\n",
    "model.fit(xtrain,ytrain)\n",
    "ypredict = model.predict(xtest)\n",
    "print(ypredict)\n",
    "from sklearn.metrics import confusion_matrix,plot_confusion_matrix\n",
    "print(confusion_matrix(ypredict,ytest))\n",
    "print(accuracy_score(ypredict,ytest))"
   ]
  }
 ],
 "metadata": {
  "kernelspec": {
   "display_name": "Python 3",
   "language": "python",
   "name": "python3"
  },
  "language_info": {
   "codemirror_mode": {
    "name": "ipython",
    "version": 3
   },
   "file_extension": ".py",
   "mimetype": "text/x-python",
   "name": "python",
   "nbconvert_exporter": "python",
   "pygments_lexer": "ipython3",
   "version": "3.8.5"
  }
 },
 "nbformat": 4,
 "nbformat_minor": 5
}
