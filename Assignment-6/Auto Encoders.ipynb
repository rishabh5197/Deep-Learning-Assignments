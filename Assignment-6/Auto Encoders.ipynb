{
  "nbformat": 4,
  "nbformat_minor": 0,
  "metadata": {
    "colab": {
      "name": "Auto-Encoders",
      "provenance": []
    },
    "kernelspec": {
      "name": "python3",
      "display_name": "Python 3"
    },
    "language_info": {
      "name": "python"
    },
    "accelerator": "GPU"
  },
  "cells": [
    {
      "cell_type": "code",
      "metadata": {
        "id": "9aQISglbqqgA"
      },
      "source": [
        "import numpy as np\n",
        "import pandas as pd\n",
        "import seaborn as sns\n",
        "import matplotlib.pyplot as plt\n",
        "import tensorflow as tf\n",
        "from keras.models import Model\n",
        "from keras.layers import Input,Dense,Flatten,Reshape\n",
        "from keras.datasets import mnist\n",
        "from keras.optimizers import Adam\n",
        "import cv2"
      ],
      "execution_count": 1,
      "outputs": []
    },
    {
      "cell_type": "code",
      "metadata": {
        "id": "X0899rSermbQ"
      },
      "source": [
        "(x_train, y_train),(x_test, y_test) = tf.keras.datasets.mnist.load_data()\n",
        "x_train = x_train/255.0 \n",
        "x_test = x_test/255.0 "
      ],
      "execution_count": 2,
      "outputs": []
    },
    {
      "cell_type": "code",
      "metadata": {
        "colab": {
          "base_uri": "https://localhost:8080/",
          "height": 281
        },
        "id": "b2re2Drfsn3L",
        "outputId": "09e151fa-ecb4-4c2f-97fb-c65d601b5931"
      },
      "source": [
        "plt.imshow(x_train[0], cmap=\"gray\")"
      ],
      "execution_count": 3,
      "outputs": [
        {
          "output_type": "execute_result",
          "data": {
            "text/plain": [
              "<matplotlib.image.AxesImage at 0x7feb1a6eb950>"
            ]
          },
          "metadata": {
            "tags": []
          },
          "execution_count": 3
        },
        {
          "output_type": "display_data",
          "data": {
            "image/png": "[encoded data removed]",
            "text/plain": [
              "<Figure size 432x288 with 1 Axes>"
            ]
          },
          "metadata": {
            "tags": [],
            "needs_background": "light"
          }
        }
      ]
    },
    {
      "cell_type": "code",
      "metadata": {
        "colab": {
          "base_uri": "https://localhost:8080/",
          "height": 281
        },
        "id": "JkrgK5YtsuA7",
        "outputId": "5d367235-50fe-45cb-911a-5c3af6d0985e"
      },
      "source": [
        "plt.imshow(x_train[1], cmap=\"gray\")"
      ],
      "execution_count": 4,
      "outputs": [
        {
          "output_type": "execute_result",
          "data": {
            "text/plain": [
              "<matplotlib.image.AxesImage at 0x7feb1a1d1c50>"
            ]
          },
          "metadata": {
            "tags": []
          },
          "execution_count": 4
        },
        {
          "output_type": "display_data",
          "data": {
            "image/png": "[encoded data removed]",
            "text/plain": [
              "<Figure size 432x288 with 1 Axes>"
            ]
          },
          "metadata": {
            "tags": [],
            "needs_background": "light"
          }
        }
      ]
    },
    {
      "cell_type": "code",
      "metadata": {
        "colab": {
          "base_uri": "https://localhost:8080/"
        },
        "id": "zEQ1z7hcswOc",
        "outputId": "e5c5e313-91cb-444d-a544-3ec517095787"
      },
      "source": [
        "x_train[0].shape"
      ],
      "execution_count": 5,
      "outputs": [
        {
          "output_type": "execute_result",
          "data": {
            "text/plain": [
              "(28, 28)"
            ]
          },
          "metadata": {
            "tags": []
          },
          "execution_count": 5
        }
      ]
    },
    {
      "cell_type": "code",
      "metadata": {
        "id": "9jrbsuaEszni"
      },
      "source": [
        "encoder_input = Input(shape=(28, 28, 1), name='img')\n",
        "x = Flatten()(encoder_input)\n",
        "encoder_output = Dense(64, activation=\"relu\")(x)\n",
        "encoder = Model(encoder_input, encoder_output, name='encoder')\n",
        "decoder_input = Dense(64, activation=\"relu\")(encoder_output)\n",
        "x = Dense(784, activation=\"relu\")(decoder_input) \n",
        "decoder_output = Reshape((28, 28, 1))(x)\n",
        "opt = Adam(lr=0.001, decay=1e-6)"
      ],
      "execution_count": 6,
      "outputs": []
    },
    {
      "cell_type": "code",
      "metadata": {
        "id": "xgLRjknztXJV"
      },
      "source": [
        "autoencoder = Model(encoder_input, decoder_output, name='autoencoder')"
      ],
      "execution_count": 7,
      "outputs": []
    },
    {
      "cell_type": "code",
      "metadata": {
        "colab": {
          "base_uri": "https://localhost:8080/"
        },
        "id": "3pXeUCApt37y",
        "outputId": "7acc6464-2b18-4b6d-ce1d-695677e805cc"
      },
      "source": [
        "autoencoder.summary()"
      ],
      "execution_count": 8,
      "outputs": [
        {
          "output_type": "stream",
          "text": [
            "Model: \"autoencoder\"\n",
            "_________________________________________________________________\n",
            "Layer (type)                 Output Shape              Param #   \n",
            "=================================================================\n",
            "img (InputLayer)             [(None, 28, 28, 1)]       0         \n",
            "_________________________________________________________________\n",
            "flatten (Flatten)            (None, 784)               0         \n",
            "_________________________________________________________________\n",
            "dense (Dense)                (None, 64)                50240     \n",
            "_________________________________________________________________\n",
            "dense_1 (Dense)              (None, 64)                4160      \n",
            "_________________________________________________________________\n",
            "dense_2 (Dense)              (None, 784)               50960     \n",
            "_________________________________________________________________\n",
            "reshape (Reshape)            (None, 28, 28, 1)         0         \n",
            "=================================================================\n",
            "Total params: 105,360\n",
            "Trainable params: 105,360\n",
            "Non-trainable params: 0\n",
            "_________________________________________________________________\n"
          ],
          "name": "stdout"
        }
      ]
    },
    {
      "cell_type": "code",
      "metadata": {
        "id": "h9n7MmM3uHly"
      },
      "source": [
        "autoencoder.compile(opt, loss='mse')"
      ],
      "execution_count": 9,
      "outputs": []
    },
    {
      "cell_type": "code",
      "metadata": {
        "colab": {
          "base_uri": "https://localhost:8080/"
        },
        "id": "qiGOSsHAt5NA",
        "outputId": "11cbcb59-7790-4727-a54c-966ed7c0f2a3"
      },
      "source": [
        "history = autoencoder.fit(x_train,x_train,epochs=100, batch_size=32, validation_split=0.10 )"
      ],
      "execution_count": 10,
      "outputs": [
        {
          "output_type": "stream",
          "text": [
            "Epoch 1/100\n",
            "1688/1688 [==============================] - 5s 2ms/step - loss: 0.0314 - val_loss: 0.0140\n",
            "Epoch 2/100\n",
            "1688/1688 [==============================] - 3s 2ms/step - loss: 0.0133 - val_loss: 0.0125\n",
            "Epoch 3/100\n",
            "1688/1688 [==============================] - 3s 2ms/step - loss: 0.0123 - val_loss: 0.0119\n",
            "Epoch 4/100\n",
            "1688/1688 [==============================] - 3s 2ms/step - loss: 0.0119 - val_loss: 0.0117\n",
            "Epoch 5/100\n",
            "1688/1688 [==============================] - 3s 2ms/step - loss: 0.0116 - val_loss: 0.0117\n",
            "Epoch 6/100\n",
            "1688/1688 [==============================] - 4s 2ms/step - loss: 0.0115 - val_loss: 0.0116\n",
            "Epoch 7/100\n",
            "1688/1688 [==============================] - 3s 2ms/step - loss: 0.0115 - val_loss: 0.0112\n",
            "Epoch 8/100\n",
            "1688/1688 [==============================] - 4s 2ms/step - loss: 0.0111 - val_loss: 0.0112\n",
            "Epoch 9/100\n",
            "1688/1688 [==============================] - 4s 2ms/step - loss: 0.0111 - val_loss: 0.0112\n",
            "Epoch 10/100\n",
            "1688/1688 [==============================] - 3s 2ms/step - loss: 0.0110 - val_loss: 0.0111\n",
            "Epoch 11/100\n",
            "1688/1688 [==============================] - 3s 2ms/step - loss: 0.0110 - val_loss: 0.0111\n",
            "Epoch 12/100\n",
            "1688/1688 [==============================] - 4s 2ms/step - loss: 0.0111 - val_loss: 0.0110\n",
            "Epoch 13/100\n",
            "1688/1688 [==============================] - 4s 2ms/step - loss: 0.0110 - val_loss: 0.0111\n",
            "Epoch 14/100\n",
            "1688/1688 [==============================] - 4s 2ms/step - loss: 0.0110 - val_loss: 0.0110\n",
            "Epoch 15/100\n",
            "1688/1688 [==============================] - 3s 2ms/step - loss: 0.0109 - val_loss: 0.0112\n",
            "Epoch 16/100\n",
            "1688/1688 [==============================] - 3s 2ms/step - loss: 0.0109 - val_loss: 0.0109\n",
            "Epoch 17/100\n",
            "1688/1688 [==============================] - 4s 2ms/step - loss: 0.0109 - val_loss: 0.0109\n",
            "Epoch 18/100\n",
            "1688/1688 [==============================] - 4s 2ms/step - loss: 0.0109 - val_loss: 0.0109\n",
            "Epoch 19/100\n",
            "1688/1688 [==============================] - 4s 2ms/step - loss: 0.0109 - val_loss: 0.0108\n",
            "Epoch 20/100\n",
            "1688/1688 [==============================] - 3s 2ms/step - loss: 0.0108 - val_loss: 0.0109\n",
            "Epoch 21/100\n",
            "1688/1688 [==============================] - 4s 2ms/step - loss: 0.0108 - val_loss: 0.0108\n",
            "Epoch 22/100\n",
            "1688/1688 [==============================] - 4s 2ms/step - loss: 0.0108 - val_loss: 0.0107\n",
            "Epoch 23/100\n",
            "1688/1688 [==============================] - 4s 2ms/step - loss: 0.0107 - val_loss: 0.0107\n",
            "Epoch 24/100\n",
            "1688/1688 [==============================] - 4s 2ms/step - loss: 0.0107 - val_loss: 0.0108\n",
            "Epoch 25/100\n",
            "1688/1688 [==============================] - 4s 2ms/step - loss: 0.0107 - val_loss: 0.0108\n",
            "Epoch 26/100\n",
            "1688/1688 [==============================] - 4s 2ms/step - loss: 0.0107 - val_loss: 0.0108\n",
            "Epoch 27/100\n",
            "1688/1688 [==============================] - 4s 2ms/step - loss: 0.0107 - val_loss: 0.0107\n",
            "Epoch 28/100\n",
            "1688/1688 [==============================] - 4s 2ms/step - loss: 0.0107 - val_loss: 0.0108\n",
            "Epoch 29/100\n",
            "1688/1688 [==============================] - 4s 2ms/step - loss: 0.0107 - val_loss: 0.0107\n",
            "Epoch 30/100\n",
            "1688/1688 [==============================] - 4s 2ms/step - loss: 0.0107 - val_loss: 0.0107\n",
            "Epoch 31/100\n",
            "1688/1688 [==============================] - 4s 2ms/step - loss: 0.0107 - val_loss: 0.0107\n",
            "Epoch 32/100\n",
            "1688/1688 [==============================] - 3s 2ms/step - loss: 0.0107 - val_loss: 0.0107\n",
            "Epoch 33/100\n",
            "1688/1688 [==============================] - 3s 2ms/step - loss: 0.0106 - val_loss: 0.0107\n",
            "Epoch 34/100\n",
            "1688/1688 [==============================] - 4s 2ms/step - loss: 0.0106 - val_loss: 0.0107\n",
            "Epoch 35/100\n",
            "1688/1688 [==============================] - 4s 2ms/step - loss: 0.0106 - val_loss: 0.0107\n",
            "Epoch 36/100\n",
            "1688/1688 [==============================] - 4s 2ms/step - loss: 0.0106 - val_loss: 0.0107\n",
            "Epoch 37/100\n",
            "1688/1688 [==============================] - 4s 2ms/step - loss: 0.0106 - val_loss: 0.0106\n",
            "Epoch 38/100\n",
            "1688/1688 [==============================] - 4s 2ms/step - loss: 0.0106 - val_loss: 0.0107\n",
            "Epoch 39/100\n",
            "1688/1688 [==============================] - 3s 2ms/step - loss: 0.0106 - val_loss: 0.0107\n",
            "Epoch 40/100\n",
            "1688/1688 [==============================] - 4s 2ms/step - loss: 0.0106 - val_loss: 0.0107\n",
            "Epoch 41/100\n",
            "1688/1688 [==============================] - 4s 2ms/step - loss: 0.0106 - val_loss: 0.0107\n",
            "Epoch 42/100\n",
            "1688/1688 [==============================] - 3s 2ms/step - loss: 0.0106 - val_loss: 0.0107\n",
            "Epoch 43/100\n",
            "1688/1688 [==============================] - 4s 2ms/step - loss: 0.0106 - val_loss: 0.0106\n",
            "Epoch 44/100\n",
            "1688/1688 [==============================] - 4s 2ms/step - loss: 0.0106 - val_loss: 0.0107\n",
            "Epoch 45/100\n",
            "1688/1688 [==============================] - 4s 2ms/step - loss: 0.0106 - val_loss: 0.0107\n",
            "Epoch 46/100\n",
            "1688/1688 [==============================] - 4s 2ms/step - loss: 0.0106 - val_loss: 0.0106\n",
            "Epoch 47/100\n",
            "1688/1688 [==============================] - 4s 2ms/step - loss: 0.0106 - val_loss: 0.0108\n",
            "Epoch 48/100\n",
            "1688/1688 [==============================] - 4s 2ms/step - loss: 0.0107 - val_loss: 0.0106\n",
            "Epoch 49/100\n",
            "1688/1688 [==============================] - 4s 2ms/step - loss: 0.0106 - val_loss: 0.0107\n",
            "Epoch 50/100\n",
            "1688/1688 [==============================] - 4s 2ms/step - loss: 0.0106 - val_loss: 0.0107\n",
            "Epoch 51/100\n",
            "1688/1688 [==============================] - 3s 2ms/step - loss: 0.0106 - val_loss: 0.0107\n",
            "Epoch 52/100\n",
            "1688/1688 [==============================] - 4s 2ms/step - loss: 0.0106 - val_loss: 0.0107\n",
            "Epoch 53/100\n",
            "1688/1688 [==============================] - 4s 2ms/step - loss: 0.0106 - val_loss: 0.0106\n",
            "Epoch 54/100\n",
            "1688/1688 [==============================] - 4s 2ms/step - loss: 0.0106 - val_loss: 0.0107\n",
            "Epoch 55/100\n",
            "1688/1688 [==============================] - 4s 2ms/step - loss: 0.0105 - val_loss: 0.0106\n",
            "Epoch 56/100\n",
            "1688/1688 [==============================] - 4s 2ms/step - loss: 0.0106 - val_loss: 0.0106\n",
            "Epoch 57/100\n",
            "1688/1688 [==============================] - 4s 2ms/step - loss: 0.0106 - val_loss: 0.0107\n",
            "Epoch 58/100\n",
            "1688/1688 [==============================] - 4s 2ms/step - loss: 0.0106 - val_loss: 0.0107\n",
            "Epoch 59/100\n",
            "1688/1688 [==============================] - 4s 2ms/step - loss: 0.0106 - val_loss: 0.0106\n",
            "Epoch 60/100\n",
            "1688/1688 [==============================] - 3s 2ms/step - loss: 0.0105 - val_loss: 0.0107\n",
            "Epoch 61/100\n",
            "1688/1688 [==============================] - 4s 2ms/step - loss: 0.0106 - val_loss: 0.0106\n",
            "Epoch 62/100\n",
            "1688/1688 [==============================] - 3s 2ms/step - loss: 0.0106 - val_loss: 0.0106\n",
            "Epoch 63/100\n",
            "1688/1688 [==============================] - 3s 2ms/step - loss: 0.0105 - val_loss: 0.0106\n",
            "Epoch 64/100\n",
            "1688/1688 [==============================] - 4s 2ms/step - loss: 0.0105 - val_loss: 0.0106\n",
            "Epoch 65/100\n",
            "1688/1688 [==============================] - 4s 2ms/step - loss: 0.0106 - val_loss: 0.0106\n",
            "Epoch 66/100\n",
            "1688/1688 [==============================] - 4s 2ms/step - loss: 0.0105 - val_loss: 0.0106\n",
            "Epoch 67/100\n",
            "1688/1688 [==============================] - 4s 2ms/step - loss: 0.0105 - val_loss: 0.0106\n",
            "Epoch 68/100\n",
            "1688/1688 [==============================] - 4s 2ms/step - loss: 0.0105 - val_loss: 0.0105\n",
            "Epoch 69/100\n",
            "1688/1688 [==============================] - 4s 2ms/step - loss: 0.0105 - val_loss: 0.0106\n",
            "Epoch 70/100\n",
            "1688/1688 [==============================] - 4s 2ms/step - loss: 0.0106 - val_loss: 0.0106\n",
            "Epoch 71/100\n",
            "1688/1688 [==============================] - 4s 2ms/step - loss: 0.0105 - val_loss: 0.0106\n",
            "Epoch 72/100\n",
            "1688/1688 [==============================] - 4s 2ms/step - loss: 0.0105 - val_loss: 0.0106\n",
            "Epoch 73/100\n",
            "1688/1688 [==============================] - 4s 2ms/step - loss: 0.0105 - val_loss: 0.0106\n",
            "Epoch 74/100\n",
            "1688/1688 [==============================] - 4s 2ms/step - loss: 0.0105 - val_loss: 0.0106\n",
            "Epoch 75/100\n",
            "1688/1688 [==============================] - 4s 2ms/step - loss: 0.0105 - val_loss: 0.0105\n",
            "Epoch 76/100\n",
            "1688/1688 [==============================] - 4s 2ms/step - loss: 0.0105 - val_loss: 0.0105\n",
            "Epoch 77/100\n",
            "1688/1688 [==============================] - 4s 2ms/step - loss: 0.0105 - val_loss: 0.0106\n",
            "Epoch 78/100\n",
            "1688/1688 [==============================] - 3s 2ms/step - loss: 0.0105 - val_loss: 0.0105\n",
            "Epoch 79/100\n",
            "1688/1688 [==============================] - 4s 2ms/step - loss: 0.0105 - val_loss: 0.0105\n",
            "Epoch 80/100\n",
            "1688/1688 [==============================] - 4s 2ms/step - loss: 0.0105 - val_loss: 0.0106\n",
            "Epoch 81/100\n",
            "1688/1688 [==============================] - 4s 2ms/step - loss: 0.0105 - val_loss: 0.0106\n",
            "Epoch 82/100\n",
            "1688/1688 [==============================] - 4s 2ms/step - loss: 0.0105 - val_loss: 0.0105\n",
            "Epoch 83/100\n",
            "1688/1688 [==============================] - 4s 2ms/step - loss: 0.0105 - val_loss: 0.0106\n",
            "Epoch 84/100\n",
            "1688/1688 [==============================] - 4s 2ms/step - loss: 0.0105 - val_loss: 0.0106\n",
            "Epoch 85/100\n",
            "1688/1688 [==============================] - 4s 2ms/step - loss: 0.0105 - val_loss: 0.0106\n",
            "Epoch 86/100\n",
            "1688/1688 [==============================] - 4s 2ms/step - loss: 0.0105 - val_loss: 0.0105\n",
            "Epoch 87/100\n",
            "1688/1688 [==============================] - 4s 2ms/step - loss: 0.0105 - val_loss: 0.0106\n",
            "Epoch 88/100\n",
            "1688/1688 [==============================] - 4s 2ms/step - loss: 0.0105 - val_loss: 0.0106\n",
            "Epoch 89/100\n",
            "1688/1688 [==============================] - 4s 2ms/step - loss: 0.0105 - val_loss: 0.0106\n",
            "Epoch 90/100\n",
            "1688/1688 [==============================] - 4s 2ms/step - loss: 0.0105 - val_loss: 0.0106\n",
            "Epoch 91/100\n",
            "1688/1688 [==============================] - 4s 2ms/step - loss: 0.0105 - val_loss: 0.0106\n",
            "Epoch 92/100\n",
            "1688/1688 [==============================] - 4s 2ms/step - loss: 0.0105 - val_loss: 0.0106\n",
            "Epoch 93/100\n",
            "1688/1688 [==============================] - 4s 2ms/step - loss: 0.0105 - val_loss: 0.0106\n",
            "Epoch 94/100\n",
            "1688/1688 [==============================] - 4s 2ms/step - loss: 0.0105 - val_loss: 0.0106\n",
            "Epoch 95/100\n",
            "1688/1688 [==============================] - 4s 2ms/step - loss: 0.0105 - val_loss: 0.0105\n",
            "Epoch 96/100\n",
            "1688/1688 [==============================] - 4s 2ms/step - loss: 0.0105 - val_loss: 0.0105\n",
            "Epoch 97/100\n",
            "1688/1688 [==============================] - 4s 2ms/step - loss: 0.0105 - val_loss: 0.0106\n",
            "Epoch 98/100\n",
            "1688/1688 [==============================] - 4s 2ms/step - loss: 0.0105 - val_loss: 0.0107\n",
            "Epoch 99/100\n",
            "1688/1688 [==============================] - 4s 2ms/step - loss: 0.0105 - val_loss: 0.0105\n",
            "Epoch 100/100\n",
            "1688/1688 [==============================] - 4s 2ms/step - loss: 0.0105 - val_loss: 0.0105\n"
          ],
          "name": "stdout"
        }
      ]
    },
    {
      "cell_type": "code",
      "metadata": {
        "colab": {
          "base_uri": "https://localhost:8080/",
          "height": 608
        },
        "id": "bPkQEz1ewFga",
        "outputId": "5275e568-01c5-4788-a490-581ca5054b02"
      },
      "source": [
        "history=pd.DataFrame(history.history)\n",
        "history.plot(figsize=(16,10))"
      ],
      "execution_count": 11,
      "outputs": [
        {
          "output_type": "execute_result",
          "data": {
            "text/plain": [
              "<matplotlib.axes._subplots.AxesSubplot at 0x7feb100fdb50>"
            ]
          },
          "metadata": {
            "tags": []
          },
          "execution_count": 11
        },
        {
          "output_type": "display_data",
          "data": {
            "image/png": "[encoded data removed]",
            "text/plain": [
              "<Figure size 1152x720 with 1 Axes>"
            ]
          },
          "metadata": {
            "tags": [],
            "needs_background": "light"
          }
        }
      ]
    },
    {
      "cell_type": "code",
      "metadata": {
        "id": "CM50ESFSuDli"
      },
      "source": [
        "example = encoder.predict([ x_test[0].reshape(-1, 28, 28, 1) ])"
      ],
      "execution_count": 12,
      "outputs": []
    },
    {
      "cell_type": "code",
      "metadata": {
        "colab": {
          "base_uri": "https://localhost:8080/"
        },
        "id": "VL93NrE7uUra",
        "outputId": "a186f6d5-101f-4ffa-f32f-fd65d23e826d"
      },
      "source": [
        "print(example[0].shape)\n",
        "print(example[0])"
      ],
      "execution_count": 13,
      "outputs": [
        {
          "output_type": "stream",
          "text": [
            "(64,)\n",
            "[1.6225708  1.5220733  2.024408   0.7571401  0.         0.653636\n",
            " 0.35433292 0.68050766 0.7987205  0.8507085  1.5922581  0.5082049\n",
            " 2.1137788  0.2910179  0.5471906  1.3018699  0.91408944 0.46017277\n",
            " 0.         1.451652   0.7307642  0.7659637  0.571785   1.0072689\n",
            " 0.45836622 0.28206348 0.         0.67702526 2.0430918  1.494662\n",
            " 0.36278114 1.7095569  0.45008233 0.9501813  1.7558467  0.3072954\n",
            " 0.63628936 1.03131    3.5042682  1.0212511  0.83454555 1.7245982\n",
            " 2.523524   1.111186   0.6239486  2.910634   0.         0.\n",
            " 1.6003249  1.1625733  0.2658943  1.4486437  1.6723976  2.2105305\n",
            " 1.8127978  1.4091725  0.5249502  1.9184961  0.94215    2.069564\n",
            " 0.         1.1146244  1.5428814  0.7133487 ]\n"
          ],
          "name": "stdout"
        }
      ]
    },
    {
      "cell_type": "code",
      "metadata": {
        "colab": {
          "base_uri": "https://localhost:8080/",
          "height": 281
        },
        "id": "8aKVQUbuuW8i",
        "outputId": "f55956a0-5a05-4fd7-ab68-18e97cec5cb5"
      },
      "source": [
        "plt.imshow(example[0].reshape((8,8)), cmap=\"gray\")"
      ],
      "execution_count": 14,
      "outputs": [
        {
          "output_type": "execute_result",
          "data": {
            "text/plain": [
              "<matplotlib.image.AxesImage at 0x7feace2b7390>"
            ]
          },
          "metadata": {
            "tags": []
          },
          "execution_count": 14
        },
        {
          "output_type": "display_data",
          "data": {
            "image/png": "[encoded data removed]",
            "text/plain": [
              "<Figure size 432x288 with 1 Axes>"
            ]
          },
          "metadata": {
            "tags": [],
            "needs_background": "light"
          }
        }
      ]
    },
    {
      "cell_type": "code",
      "metadata": {
        "colab": {
          "base_uri": "https://localhost:8080/",
          "height": 281
        },
        "id": "T9pdN908uZGh",
        "outputId": "103eeb0f-f64b-48a7-c437-8e9ed40434a7"
      },
      "source": [
        "plt.imshow(x_test[0], cmap=\"gray\")"
      ],
      "execution_count": 15,
      "outputs": [
        {
          "output_type": "execute_result",
          "data": {
            "text/plain": [
              "<matplotlib.image.AxesImage at 0x7feace2f4050>"
            ]
          },
          "metadata": {
            "tags": []
          },
          "execution_count": 15
        },
        {
          "output_type": "display_data",
          "data": {
            "image/png": "[encoded data removed]",
            "text/plain": [
              "<Figure size 432x288 with 1 Axes>"
            ]
          },
          "metadata": {
            "tags": [],
            "needs_background": "light"
          }
        }
      ]
    },
    {
      "cell_type": "code",
      "metadata": {
        "colab": {
          "base_uri": "https://localhost:8080/",
          "height": 281
        },
        "id": "ZpQW-CIpubmc",
        "outputId": "c082acdf-f44b-462e-8c32-9671d6e847e4"
      },
      "source": [
        "plt.imshow(example[0].reshape((8,8)), cmap=\"gray\")"
      ],
      "execution_count": 16,
      "outputs": [
        {
          "output_type": "execute_result",
          "data": {
            "text/plain": [
              "<matplotlib.image.AxesImage at 0x7feace2009d0>"
            ]
          },
          "metadata": {
            "tags": []
          },
          "execution_count": 16
        },
        {
          "output_type": "display_data",
          "data": {
            "image/png": "[encoded data removed]",
            "text/plain": [
              "<Figure size 432x288 with 1 Axes>"
            ]
          },
          "metadata": {
            "tags": [],
            "needs_background": "light"
          }
        }
      ]
    },
    {
      "cell_type": "code",
      "metadata": {
        "id": "kXdBdQQMueIR"
      },
      "source": [
        "ae_out = autoencoder.predict([ x_test[0].reshape(-1, 28, 28, 1) ])\n",
        "img = ae_out[0] "
      ],
      "execution_count": 17,
      "outputs": []
    },
    {
      "cell_type": "code",
      "metadata": {
        "colab": {
          "base_uri": "https://localhost:8080/",
          "height": 281
        },
        "id": "tHlOmmMyuhc5",
        "outputId": "61d18db8-0e46-4f53-89af-19a6698d6f04"
      },
      "source": [
        "plt.imshow(img.reshape(28,28))"
      ],
      "execution_count": 18,
      "outputs": [
        {
          "output_type": "execute_result",
          "data": {
            "text/plain": [
              "<matplotlib.image.AxesImage at 0x7feb25194f50>"
            ]
          },
          "metadata": {
            "tags": []
          },
          "execution_count": 18
        },
        {
          "output_type": "display_data",
          "data": {
            "image/png": "[encoded data removed]",
            "text/plain": [
              "<Figure size 432x288 with 1 Axes>"
            ]
          },
          "metadata": {
            "tags": [],
            "needs_background": "light"
          }
        }
      ]
    },
    {
      "cell_type": "code",
      "metadata": {
        "colab": {
          "base_uri": "https://localhost:8080/",
          "height": 281
        },
        "id": "QDhirNqtu2GY",
        "outputId": "234a5826-aa36-45c7-b6a7-deb24a0e776c"
      },
      "source": [
        "ae_out = autoencoder.predict([ x_test[1].reshape(-1, 28, 28, 1) ])\n",
        "img = ae_out[0] \n",
        "plt.imshow(ae_out[0].reshape(28,28), cmap=\"gray\")"
      ],
      "execution_count": 19,
      "outputs": [
        {
          "output_type": "execute_result",
          "data": {
            "text/plain": [
              "<matplotlib.image.AxesImage at 0x7feace14cf50>"
            ]
          },
          "metadata": {
            "tags": []
          },
          "execution_count": 19
        },
        {
          "output_type": "display_data",
          "data": {
            "image/png": "[encoded data removed]",
            "text/plain": [
              "<Figure size 432x288 with 1 Axes>"
            ]
          },
          "metadata": {
            "tags": [],
            "needs_background": "light"
          }
        }
      ]
    },
    {
      "cell_type": "code",
      "metadata": {
        "colab": {
          "base_uri": "https://localhost:8080/",
          "height": 281
        },
        "id": "LvZsuHMbvEj5",
        "outputId": "ce2a0b82-49cc-456c-fbf8-f23598c92f75"
      },
      "source": [
        "ae_out = autoencoder.predict([ x_test[2].reshape(-1, 28, 28, 1) ])\n",
        "img = ae_out[0] \n",
        "plt.imshow(ae_out[0].reshape(28,28), cmap=\"gray\")"
      ],
      "execution_count": 20,
      "outputs": [
        {
          "output_type": "execute_result",
          "data": {
            "text/plain": [
              "<matplotlib.image.AxesImage at 0x7feace0b9d90>"
            ]
          },
          "metadata": {
            "tags": []
          },
          "execution_count": 20
        },
        {
          "output_type": "display_data",
          "data": {
            "image/png": "[encoded data removed]",
            "text/plain": [
              "<Figure size 432x288 with 1 Axes>"
            ]
          },
          "metadata": {
            "tags": [],
            "needs_background": "light"
          }
        }
      ]
    }
  ]
}