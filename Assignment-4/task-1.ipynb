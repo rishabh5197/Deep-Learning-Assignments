{
  "nbformat": 4,
  "nbformat_minor": 5,
  "metadata": {
    "kernelspec": {
      "display_name": "Python 3",
      "language": "python",
      "name": "python3"
    },
    "language_info": {
      "codemirror_mode": {
        "name": "ipython",
        "version": 3
      },
      "file_extension": ".py",
      "mimetype": "text/x-python",
      "name": "python",
      "nbconvert_exporter": "python",
      "pygments_lexer": "ipython3",
      "version": "3.8.5"
    },
    "colab": {
      "name": "Untitled.ipynb",
      "provenance": []
    },
    "accelerator": "GPU"
  },
  "cells": [
    {
      "cell_type": "code",
      "metadata": {
        "id": "44e78704"
      },
      "source": [
        "import pandas as pd\n",
        "import numpy as np\n",
        "import tensorflow as tf\n",
        "import keras\n",
        "import matplotlib.pyplot as plt\n",
        "import seaborn as sns\n",
        "import scipy\n",
        "from sklearn.model_selection import train_test_split"
      ],
      "id": "44e78704",
      "execution_count": 1,
      "outputs": []
    },
    {
      "cell_type": "code",
      "metadata": {
        "id": "4c81092d"
      },
      "source": [
        "(xtrain,ytrain),(xtest,ytest) = keras.datasets.cifar10.load_data()\n",
        "classes = ['airplane', 'automobile', 'bird', 'cat', 'deer', 'dog', 'frog', 'horse', 'ship', 'truck']"
      ],
      "id": "4c81092d",
      "execution_count": 2,
      "outputs": []
    },
    {
      "cell_type": "code",
      "metadata": {
        "colab": {
          "base_uri": "https://localhost:8080/",
          "height": 264
        },
        "id": "e0f29377",
        "outputId": "beb2c9fc-183b-4171-dc6b-c84607903ea6"
      },
      "source": [
        "plt.imshow(xtrain[0])\n",
        "plt.title(classes[ytrain[0][0]],)\n",
        "plt.axis(False)\n",
        "plt.show()"
      ],
      "id": "e0f29377",
      "execution_count": 3,
      "outputs": [
        {
          "output_type": "display_data",
          "data": {
            "image/png": "[encoded data removed]",
            "text/plain": [
              "<Figure size 432x288 with 1 Axes>"
            ]
          },
          "metadata": {
            "tags": [],
            "needs_background": "light"
          }
        }
      ]
    },
    {
      "cell_type": "code",
      "metadata": {
        "colab": {
          "base_uri": "https://localhost:8080/"
        },
        "id": "0d378822",
        "outputId": "b3857e79-83f3-48a4-a9fb-ec0b9cdd33f6"
      },
      "source": [
        "#  selecting 50% less data from xtrain\n",
        "(xtrain_new_50,xtest_new_50,ytrain_new_50,ytest_new_50) =train_test_split(xtrain,ytrain,test_size=0.5,random_state=0)\n",
        "xtrain_1,xtest_1,ytrain_1,ytest_1 = train_test_split(xtrain_new_50,ytrain_new_50,test_size=0.3,random_state=0)\n",
        "print(\"Xtrain orignal :- \",xtrain.shape)\n",
        "print(\"Xtrain 50% selected from xtrain:-\",xtrain_new_50.shape)\n",
        "print(\"70% selected from that 50% training :- \",xtrain_1.shape)"
      ],
      "id": "0d378822",
      "execution_count": 4,
      "outputs": [
        {
          "output_type": "stream",
          "text": [
            "Xtrain orignal :-  (50000, 32, 32, 3)\n",
            "Xtrain 50% selected from xtrain:- (25000, 32, 32, 3)\n",
            "70% selected from that 50% training :-  (17500, 32, 32, 3)\n"
          ],
          "name": "stdout"
        }
      ]
    },
    {
      "cell_type": "code",
      "metadata": {
        "id": "04da8f6a"
      },
      "source": [
        "from keras.models import Sequential\n",
        "from keras.layers import Conv2D,Activation,BatchNormalization,MaxPooling2D,Dense,Flatten,Dropout"
      ],
      "id": "04da8f6a",
      "execution_count": 5,
      "outputs": []
    },
    {
      "cell_type": "code",
      "metadata": {
        "id": "jkE8yzzXWto0"
      },
      "source": [
        "from keras.utils import to_categorical\n",
        "\n",
        "ytrain = to_categorical(ytrain,10)\n",
        "ytrain_new_50 = to_categorical(ytrain_new_50,10)\n",
        "ytrain_1 = to_categorical(ytrain_1,10)\n",
        "\n",
        "ytest = to_categorical(ytest,10)\n",
        "ytest_new_50 = to_categorical(ytest_new_50,10)\n",
        "ytest_1 = to_categorical(ytest_1,10)"
      ],
      "id": "jkE8yzzXWto0",
      "execution_count": 6,
      "outputs": []
    },
    {
      "cell_type": "code",
      "metadata": {
        "colab": {
          "base_uri": "https://localhost:8080/"
        },
        "id": "ce187783",
        "outputId": "9fcec1f4-3d98-41e2-ee82-0685cd58c397"
      },
      "source": [
        "xtrain_1[0].shape"
      ],
      "id": "ce187783",
      "execution_count": 7,
      "outputs": [
        {
          "output_type": "execute_result",
          "data": {
            "text/plain": [
              "(32, 32, 3)"
            ]
          },
          "metadata": {
            "tags": []
          },
          "execution_count": 7
        }
      ]
    },
    {
      "cell_type": "code",
      "metadata": {
        "colab": {
          "base_uri": "https://localhost:8080/"
        },
        "id": "76505415",
        "outputId": "fe108f23-c6f0-4ee1-9031-4244803267f1"
      },
      "source": [
        "AlexNet = Sequential()\n",
        "\n",
        "#1st Convolutional Layer\n",
        "AlexNet.add(Conv2D(filters=96, input_shape=xtrain_1[0].shape, kernel_size=(11,11), strides=(4,4), padding='same'))\n",
        "AlexNet.add(BatchNormalization())\n",
        "AlexNet.add(Activation('relu'))\n",
        "\n",
        "# 1st Maxpooling Layer\n",
        "AlexNet.add(MaxPooling2D(pool_size=(2,2), strides=(2,2), padding='same'))\n",
        "\n",
        "#2nd Convolutional Layer\n",
        "AlexNet.add(Conv2D(filters=256, kernel_size=(5, 5), strides=(1,1), padding='same'))\n",
        "AlexNet.add(BatchNormalization())\n",
        "AlexNet.add(Activation('relu'))\n",
        "\n",
        "# 2nd Maxpooling Layer\n",
        "AlexNet.add(MaxPooling2D(pool_size=(2,2), strides=(2,2), padding='same'))\n",
        "\n",
        "#3rd Convolutional Layer\n",
        "AlexNet.add(Conv2D(filters=384, kernel_size=(3,3), strides=(1,1), padding='same'))\n",
        "AlexNet.add(BatchNormalization())\n",
        "AlexNet.add(Activation('relu'))\n",
        "\n",
        "#4th Convolutional Layer\n",
        "AlexNet.add(Conv2D(filters=384, kernel_size=(3,3), strides=(1,1), padding='same'))\n",
        "AlexNet.add(BatchNormalization())\n",
        "AlexNet.add(Activation('relu'))\n",
        "\n",
        "#5th Convolutional Layer\n",
        "AlexNet.add(Conv2D(filters=256, kernel_size=(3,3), strides=(1,1), padding='same'))\n",
        "AlexNet.add(BatchNormalization())\n",
        "AlexNet.add(Activation('relu'))\n",
        "\n",
        "# 3rd Maxpooling Layer\n",
        "AlexNet.add(MaxPooling2D(pool_size=(2,2), strides=(2,2), padding='same'))\n",
        "\n",
        "#Passing it to a Fully Connected layer\n",
        "AlexNet.add(Flatten())\n",
        "\n",
        "# 1st Fully Connected Layer\n",
        "AlexNet.add(Dense(4096, input_shape=(32,32,3,)))\n",
        "AlexNet.add(BatchNormalization())\n",
        "AlexNet.add(Activation('relu'))\n",
        "\n",
        "# Add Dropout to prevent overfitting\n",
        "AlexNet.add(Dropout(0.4))\n",
        "\n",
        "#2nd Fully Connected Layer\n",
        "AlexNet.add(Dense(4096))\n",
        "AlexNet.add(BatchNormalization())\n",
        "AlexNet.add(Activation('relu'))\n",
        "#Add Dropout\n",
        "AlexNet.add(Dropout(0.4))\n",
        "\n",
        "#3rd Fully Connected Layer\n",
        "# AlexNet.add(Dense(1000))                                           # this is being removed to perform ConvNet as fixed feature extractor.\n",
        "AlexNet.add(BatchNormalization())\n",
        "AlexNet.add(Activation('relu'))\n",
        "#Add Dropout\n",
        "AlexNet.add(Dropout(0.4))\n",
        "\n",
        "#Output Layer\n",
        "AlexNet.add(Dense(10))\n",
        "AlexNet.add(BatchNormalization())\n",
        "AlexNet.add(Activation('softmax'))\n",
        "\n",
        "#Model Summary\n",
        "AlexNet.summary()\n",
        "# https://cs231n.github.io/transfer-learning/"
      ],
      "id": "76505415",
      "execution_count": 8,
      "outputs": [
        {
          "output_type": "stream",
          "text": [
            "Model: \"sequential\"\n",
            "_________________________________________________________________\n",
            "Layer (type)                 Output Shape              Param #   \n",
            "=================================================================\n",
            "conv2d (Conv2D)              (None, 8, 8, 96)          34944     \n",
            "_________________________________________________________________\n",
            "batch_normalization (BatchNo (None, 8, 8, 96)          384       \n",
            "_________________________________________________________________\n",
            "activation (Activation)      (None, 8, 8, 96)          0         \n",
            "_________________________________________________________________\n",
            "max_pooling2d (MaxPooling2D) (None, 4, 4, 96)          0         \n",
            "_________________________________________________________________\n",
            "conv2d_1 (Conv2D)            (None, 4, 4, 256)         614656    \n",
            "_________________________________________________________________\n",
            "batch_normalization_1 (Batch (None, 4, 4, 256)         1024      \n",
            "_________________________________________________________________\n",
            "activation_1 (Activation)    (None, 4, 4, 256)         0         \n",
            "_________________________________________________________________\n",
            "max_pooling2d_1 (MaxPooling2 (None, 2, 2, 256)         0         \n",
            "_________________________________________________________________\n",
            "conv2d_2 (Conv2D)            (None, 2, 2, 384)         885120    \n",
            "_________________________________________________________________\n",
            "batch_normalization_2 (Batch (None, 2, 2, 384)         1536      \n",
            "_________________________________________________________________\n",
            "activation_2 (Activation)    (None, 2, 2, 384)         0         \n",
            "_________________________________________________________________\n",
            "conv2d_3 (Conv2D)            (None, 2, 2, 384)         1327488   \n",
            "_________________________________________________________________\n",
            "batch_normalization_3 (Batch (None, 2, 2, 384)         1536      \n",
            "_________________________________________________________________\n",
            "activation_3 (Activation)    (None, 2, 2, 384)         0         \n",
            "_________________________________________________________________\n",
            "conv2d_4 (Conv2D)            (None, 2, 2, 256)         884992    \n",
            "_________________________________________________________________\n",
            "batch_normalization_4 (Batch (None, 2, 2, 256)         1024      \n",
            "_________________________________________________________________\n",
            "activation_4 (Activation)    (None, 2, 2, 256)         0         \n",
            "_________________________________________________________________\n",
            "max_pooling2d_2 (MaxPooling2 (None, 1, 1, 256)         0         \n",
            "_________________________________________________________________\n",
            "flatten (Flatten)            (None, 256)               0         \n",
            "_________________________________________________________________\n",
            "dense (Dense)                (None, 4096)              1052672   \n",
            "_________________________________________________________________\n",
            "batch_normalization_5 (Batch (None, 4096)              16384     \n",
            "_________________________________________________________________\n",
            "activation_5 (Activation)    (None, 4096)              0         \n",
            "_________________________________________________________________\n",
            "dropout (Dropout)            (None, 4096)              0         \n",
            "_________________________________________________________________\n",
            "dense_1 (Dense)              (None, 4096)              16781312  \n",
            "_________________________________________________________________\n",
            "batch_normalization_6 (Batch (None, 4096)              16384     \n",
            "_________________________________________________________________\n",
            "activation_6 (Activation)    (None, 4096)              0         \n",
            "_________________________________________________________________\n",
            "dropout_1 (Dropout)          (None, 4096)              0         \n",
            "_________________________________________________________________\n",
            "batch_normalization_7 (Batch (None, 4096)              16384     \n",
            "_________________________________________________________________\n",
            "activation_7 (Activation)    (None, 4096)              0         \n",
            "_________________________________________________________________\n",
            "dropout_2 (Dropout)          (None, 4096)              0         \n",
            "_________________________________________________________________\n",
            "dense_2 (Dense)              (None, 10)                40970     \n",
            "_________________________________________________________________\n",
            "batch_normalization_8 (Batch (None, 10)                40        \n",
            "_________________________________________________________________\n",
            "activation_8 (Activation)    (None, 10)                0         \n",
            "=================================================================\n",
            "Total params: 21,676,850\n",
            "Trainable params: 21,649,502\n",
            "Non-trainable params: 27,348\n",
            "_________________________________________________________________\n"
          ],
          "name": "stdout"
        }
      ]
    },
    {
      "cell_type": "code",
      "metadata": {
        "id": "e07bccb1"
      },
      "source": [
        "AlexNet.compile(loss = 'categorical_crossentropy', optimizer= 'adam', metrics=['accuracy'])"
      ],
      "id": "e07bccb1",
      "execution_count": 9,
      "outputs": []
    },
    {
      "cell_type": "code",
      "metadata": {
        "colab": {
          "base_uri": "https://localhost:8080/"
        },
        "id": "839334ea",
        "outputId": "08f370da-c078-4e92-ef92-9ba9776b0d46"
      },
      "source": [
        "# checkpoint = ModelCheckpoint('AlexNet.h5',save_best_only=True, monitor='val_accuracy',mode='max')\n",
        "history =AlexNet.fit(xtrain_1,ytrain_1,epochs=100,batch_size=32)"
      ],
      "id": "839334ea",
      "execution_count": 10,
      "outputs": [
        {
          "output_type": "stream",
          "text": [
            "Epoch 1/100\n",
            "547/547 [==============================] - 11s 13ms/step - loss: 1.9083 - accuracy: 0.3006\n",
            "Epoch 2/100\n",
            "547/547 [==============================] - 7s 12ms/step - loss: 1.5574 - accuracy: 0.4439\n",
            "Epoch 3/100\n",
            "547/547 [==============================] - 7s 12ms/step - loss: 1.4336 - accuracy: 0.4948\n",
            "Epoch 4/100\n",
            "547/547 [==============================] - 7s 13ms/step - loss: 1.3446 - accuracy: 0.5272\n",
            "Epoch 5/100\n",
            "547/547 [==============================] - 7s 12ms/step - loss: 1.2442 - accuracy: 0.5604\n",
            "Epoch 6/100\n",
            "547/547 [==============================] - 7s 12ms/step - loss: 1.1659 - accuracy: 0.5916\n",
            "Epoch 7/100\n",
            "547/547 [==============================] - 7s 13ms/step - loss: 1.0825 - accuracy: 0.6238\n",
            "Epoch 8/100\n",
            "547/547 [==============================] - 7s 13ms/step - loss: 0.9870 - accuracy: 0.6580\n",
            "Epoch 9/100\n",
            "547/547 [==============================] - 7s 13ms/step - loss: 0.8929 - accuracy: 0.6991\n",
            "Epoch 10/100\n",
            "547/547 [==============================] - 7s 13ms/step - loss: 0.7936 - accuracy: 0.7342\n",
            "Epoch 11/100\n",
            "547/547 [==============================] - 7s 13ms/step - loss: 0.7053 - accuracy: 0.7628\n",
            "Epoch 12/100\n",
            "547/547 [==============================] - 7s 13ms/step - loss: 0.6172 - accuracy: 0.7966\n",
            "Epoch 13/100\n",
            "547/547 [==============================] - 7s 13ms/step - loss: 0.5562 - accuracy: 0.8178\n",
            "Epoch 14/100\n",
            "547/547 [==============================] - 7s 13ms/step - loss: 0.4816 - accuracy: 0.8444\n",
            "Epoch 15/100\n",
            "547/547 [==============================] - 7s 13ms/step - loss: 0.4372 - accuracy: 0.8602\n",
            "Epoch 16/100\n",
            "547/547 [==============================] - 7s 13ms/step - loss: 0.3813 - accuracy: 0.8791\n",
            "Epoch 17/100\n",
            "547/547 [==============================] - 7s 13ms/step - loss: 0.3562 - accuracy: 0.8854\n",
            "Epoch 18/100\n",
            "547/547 [==============================] - 7s 13ms/step - loss: 0.3093 - accuracy: 0.9045\n",
            "Epoch 19/100\n",
            "547/547 [==============================] - 7s 13ms/step - loss: 0.2828 - accuracy: 0.9134\n",
            "Epoch 20/100\n",
            "547/547 [==============================] - 7s 13ms/step - loss: 0.2611 - accuracy: 0.9214\n",
            "Epoch 21/100\n",
            "547/547 [==============================] - 7s 13ms/step - loss: 0.2334 - accuracy: 0.9276\n",
            "Epoch 22/100\n",
            "547/547 [==============================] - 7s 13ms/step - loss: 0.2492 - accuracy: 0.9249\n",
            "Epoch 23/100\n",
            "547/547 [==============================] - 7s 13ms/step - loss: 0.1999 - accuracy: 0.9392\n",
            "Epoch 24/100\n",
            "547/547 [==============================] - 7s 13ms/step - loss: 0.1896 - accuracy: 0.9423\n",
            "Epoch 25/100\n",
            "547/547 [==============================] - 7s 13ms/step - loss: 0.1839 - accuracy: 0.9458\n",
            "Epoch 26/100\n",
            "547/547 [==============================] - 7s 13ms/step - loss: 0.1789 - accuracy: 0.9472\n",
            "Epoch 27/100\n",
            "547/547 [==============================] - 7s 13ms/step - loss: 0.1550 - accuracy: 0.9519\n",
            "Epoch 28/100\n",
            "547/547 [==============================] - 7s 13ms/step - loss: 0.1515 - accuracy: 0.9543\n",
            "Epoch 29/100\n",
            "547/547 [==============================] - 7s 13ms/step - loss: 0.1471 - accuracy: 0.9558\n",
            "Epoch 30/100\n",
            "547/547 [==============================] - 7s 13ms/step - loss: 0.1358 - accuracy: 0.9606\n",
            "Epoch 31/100\n",
            "547/547 [==============================] - 7s 13ms/step - loss: 0.1324 - accuracy: 0.9609\n",
            "Epoch 32/100\n",
            "547/547 [==============================] - 7s 13ms/step - loss: 0.1261 - accuracy: 0.9617\n",
            "Epoch 33/100\n",
            "547/547 [==============================] - 7s 13ms/step - loss: 0.1211 - accuracy: 0.9665\n",
            "Epoch 34/100\n",
            "547/547 [==============================] - 7s 13ms/step - loss: 0.1212 - accuracy: 0.9645\n",
            "Epoch 35/100\n",
            "547/547 [==============================] - 7s 13ms/step - loss: 0.1023 - accuracy: 0.9682\n",
            "Epoch 36/100\n",
            "547/547 [==============================] - 7s 13ms/step - loss: 0.1170 - accuracy: 0.9663\n",
            "Epoch 37/100\n",
            "547/547 [==============================] - 7s 13ms/step - loss: 0.0979 - accuracy: 0.9706\n",
            "Epoch 38/100\n",
            "547/547 [==============================] - 7s 13ms/step - loss: 0.1012 - accuracy: 0.9693\n",
            "Epoch 39/100\n",
            "547/547 [==============================] - 7s 13ms/step - loss: 0.0876 - accuracy: 0.9740\n",
            "Epoch 40/100\n",
            "547/547 [==============================] - 7s 13ms/step - loss: 0.1026 - accuracy: 0.9692\n",
            "Epoch 41/100\n",
            "547/547 [==============================] - 7s 13ms/step - loss: 0.0904 - accuracy: 0.9722\n",
            "Epoch 42/100\n",
            "547/547 [==============================] - 7s 13ms/step - loss: 0.0784 - accuracy: 0.9765\n",
            "Epoch 43/100\n",
            "547/547 [==============================] - 7s 13ms/step - loss: 0.0852 - accuracy: 0.9729\n",
            "Epoch 44/100\n",
            "547/547 [==============================] - 7s 13ms/step - loss: 0.0816 - accuracy: 0.9754\n",
            "Epoch 45/100\n",
            "547/547 [==============================] - 7s 13ms/step - loss: 0.0799 - accuracy: 0.9756\n",
            "Epoch 46/100\n",
            "547/547 [==============================] - 7s 13ms/step - loss: 0.0761 - accuracy: 0.9778\n",
            "Epoch 47/100\n",
            "547/547 [==============================] - 7s 13ms/step - loss: 0.0820 - accuracy: 0.9757\n",
            "Epoch 48/100\n",
            "547/547 [==============================] - 7s 13ms/step - loss: 0.0636 - accuracy: 0.9810\n",
            "Epoch 49/100\n",
            "547/547 [==============================] - 7s 13ms/step - loss: 0.0846 - accuracy: 0.9741\n",
            "Epoch 50/100\n",
            "547/547 [==============================] - 7s 13ms/step - loss: 0.0610 - accuracy: 0.9806\n",
            "Epoch 51/100\n",
            "547/547 [==============================] - 7s 13ms/step - loss: 0.0652 - accuracy: 0.9816\n",
            "Epoch 52/100\n",
            "547/547 [==============================] - 7s 13ms/step - loss: 0.0659 - accuracy: 0.9803\n",
            "Epoch 53/100\n",
            "547/547 [==============================] - 7s 13ms/step - loss: 0.0754 - accuracy: 0.9765\n",
            "Epoch 54/100\n",
            "547/547 [==============================] - 7s 13ms/step - loss: 0.0522 - accuracy: 0.9849\n",
            "Epoch 55/100\n",
            "547/547 [==============================] - 7s 13ms/step - loss: 0.0681 - accuracy: 0.9776\n",
            "Epoch 56/100\n",
            "547/547 [==============================] - 7s 13ms/step - loss: 0.0531 - accuracy: 0.9839\n",
            "Epoch 57/100\n",
            "547/547 [==============================] - 7s 13ms/step - loss: 0.0395 - accuracy: 0.9882\n",
            "Epoch 58/100\n",
            "547/547 [==============================] - 7s 13ms/step - loss: 0.0643 - accuracy: 0.9792\n",
            "Epoch 59/100\n",
            "547/547 [==============================] - 7s 13ms/step - loss: 0.0580 - accuracy: 0.9818\n",
            "Epoch 60/100\n",
            "547/547 [==============================] - 7s 13ms/step - loss: 0.0476 - accuracy: 0.9868\n",
            "Epoch 61/100\n",
            "547/547 [==============================] - 7s 13ms/step - loss: 0.0664 - accuracy: 0.9796\n",
            "Epoch 62/100\n",
            "547/547 [==============================] - 7s 13ms/step - loss: 0.0559 - accuracy: 0.9823\n",
            "Epoch 63/100\n",
            "547/547 [==============================] - 7s 13ms/step - loss: 0.0519 - accuracy: 0.9843\n",
            "Epoch 64/100\n",
            "547/547 [==============================] - 7s 13ms/step - loss: 0.0507 - accuracy: 0.9850\n",
            "Epoch 65/100\n",
            "547/547 [==============================] - 7s 13ms/step - loss: 0.0453 - accuracy: 0.9850\n",
            "Epoch 66/100\n",
            "547/547 [==============================] - 7s 13ms/step - loss: 0.0569 - accuracy: 0.9831\n",
            "Epoch 67/100\n",
            "547/547 [==============================] - 7s 13ms/step - loss: 0.0532 - accuracy: 0.9858\n",
            "Epoch 68/100\n",
            "547/547 [==============================] - 7s 13ms/step - loss: 0.0411 - accuracy: 0.9884\n",
            "Epoch 69/100\n",
            "547/547 [==============================] - 7s 13ms/step - loss: 0.0520 - accuracy: 0.9833\n",
            "Epoch 70/100\n",
            "547/547 [==============================] - 7s 13ms/step - loss: 0.0386 - accuracy: 0.9887\n",
            "Epoch 71/100\n",
            "547/547 [==============================] - 7s 13ms/step - loss: 0.0414 - accuracy: 0.9872\n",
            "Epoch 72/100\n",
            "547/547 [==============================] - 7s 13ms/step - loss: 0.0364 - accuracy: 0.9886\n",
            "Epoch 73/100\n",
            "547/547 [==============================] - 7s 13ms/step - loss: 0.0513 - accuracy: 0.9822\n",
            "Epoch 74/100\n",
            "547/547 [==============================] - 7s 13ms/step - loss: 0.0513 - accuracy: 0.9848\n",
            "Epoch 75/100\n",
            "547/547 [==============================] - 7s 13ms/step - loss: 0.0430 - accuracy: 0.9863\n",
            "Epoch 76/100\n",
            "547/547 [==============================] - 7s 13ms/step - loss: 0.0390 - accuracy: 0.9889\n",
            "Epoch 77/100\n",
            "547/547 [==============================] - 7s 13ms/step - loss: 0.0315 - accuracy: 0.9901\n",
            "Epoch 78/100\n",
            "547/547 [==============================] - 7s 13ms/step - loss: 0.0360 - accuracy: 0.9887\n",
            "Epoch 79/100\n",
            "547/547 [==============================] - 7s 13ms/step - loss: 0.0412 - accuracy: 0.9880\n",
            "Epoch 80/100\n",
            "547/547 [==============================] - 7s 13ms/step - loss: 0.0347 - accuracy: 0.9901\n",
            "Epoch 81/100\n",
            "547/547 [==============================] - 7s 13ms/step - loss: 0.0405 - accuracy: 0.9873\n",
            "Epoch 82/100\n",
            "547/547 [==============================] - 7s 13ms/step - loss: 0.0403 - accuracy: 0.9873\n",
            "Epoch 83/100\n",
            "547/547 [==============================] - 7s 13ms/step - loss: 0.0300 - accuracy: 0.9903\n",
            "Epoch 84/100\n",
            "547/547 [==============================] - 7s 13ms/step - loss: 0.0299 - accuracy: 0.9920\n",
            "Epoch 85/100\n",
            "547/547 [==============================] - 7s 13ms/step - loss: 0.0379 - accuracy: 0.9882\n",
            "Epoch 86/100\n",
            "547/547 [==============================] - 7s 13ms/step - loss: 0.0329 - accuracy: 0.9897\n",
            "Epoch 87/100\n",
            "547/547 [==============================] - 7s 13ms/step - loss: 0.0364 - accuracy: 0.9888\n",
            "Epoch 88/100\n",
            "547/547 [==============================] - 7s 13ms/step - loss: 0.0397 - accuracy: 0.9876\n",
            "Epoch 89/100\n",
            "547/547 [==============================] - 7s 13ms/step - loss: 0.0362 - accuracy: 0.9879\n",
            "Epoch 90/100\n",
            "547/547 [==============================] - 7s 13ms/step - loss: 0.0364 - accuracy: 0.9892\n",
            "Epoch 91/100\n",
            "547/547 [==============================] - 7s 13ms/step - loss: 0.0286 - accuracy: 0.9907\n",
            "Epoch 92/100\n",
            "547/547 [==============================] - 7s 13ms/step - loss: 0.0424 - accuracy: 0.9882\n",
            "Epoch 93/100\n",
            "547/547 [==============================] - 7s 13ms/step - loss: 0.0329 - accuracy: 0.9909\n",
            "Epoch 94/100\n",
            "547/547 [==============================] - 7s 13ms/step - loss: 0.0294 - accuracy: 0.9914\n",
            "Epoch 95/100\n",
            "547/547 [==============================] - 7s 13ms/step - loss: 0.0216 - accuracy: 0.9937\n",
            "Epoch 96/100\n",
            "547/547 [==============================] - 7s 13ms/step - loss: 0.0386 - accuracy: 0.9888\n",
            "Epoch 97/100\n",
            "547/547 [==============================] - 7s 13ms/step - loss: 0.0273 - accuracy: 0.9917\n",
            "Epoch 98/100\n",
            "547/547 [==============================] - 7s 13ms/step - loss: 0.0317 - accuracy: 0.9900\n",
            "Epoch 99/100\n",
            "547/547 [==============================] - 7s 13ms/step - loss: 0.0232 - accuracy: 0.9933\n",
            "Epoch 100/100\n",
            "547/547 [==============================] - 7s 13ms/step - loss: 0.0259 - accuracy: 0.9919\n"
          ],
          "name": "stdout"
        }
      ]
    },
    {
      "cell_type": "code",
      "metadata": {
        "id": "c1615ac3"
      },
      "source": [
        "history = pd.DataFrame(history.history)"
      ],
      "id": "c1615ac3",
      "execution_count": 11,
      "outputs": []
    },
    {
      "cell_type": "code",
      "metadata": {
        "colab": {
          "base_uri": "https://localhost:8080/",
          "height": 406
        },
        "id": "yJ5Q1DPzVU1s",
        "outputId": "298c1391-47d7-4069-e283-6cf18ff7cb79"
      },
      "source": [
        "history"
      ],
      "id": "yJ5Q1DPzVU1s",
      "execution_count": 12,
      "outputs": [
        {
          "output_type": "execute_result",
          "data": {
            "text/html": [
              "<div>\n",
              "<style scoped>\n",
              "    .dataframe tbody tr th:only-of-type {\n",
              "        vertical-align: middle;\n",
              "    }\n",
              "\n",
              "    .dataframe tbody tr th {\n",
              "        vertical-align: top;\n",
              "    }\n",
              "\n",
              "    .dataframe thead th {\n",
              "        text-align: right;\n",
              "    }\n",
              "</style>\n",
              "<table border=\"1\" class=\"dataframe\">\n",
              "  <thead>\n",
              "    <tr style=\"text-align: right;\">\n",
              "      <th></th>\n",
              "      <th>loss</th>\n",
              "      <th>accuracy</th>\n",
              "    </tr>\n",
              "  </thead>\n",
              "  <tbody>\n",
              "    <tr>\n",
              "      <th>0</th>\n",
              "      <td>1.749619</td>\n",
              "      <td>0.361543</td>\n",
              "    </tr>\n",
              "    <tr>\n",
              "      <th>1</th>\n",
              "      <td>1.536217</td>\n",
              "      <td>0.454286</td>\n",
              "    </tr>\n",
              "    <tr>\n",
              "      <th>2</th>\n",
              "      <td>1.422057</td>\n",
              "      <td>0.498286</td>\n",
              "    </tr>\n",
              "    <tr>\n",
              "      <th>3</th>\n",
              "      <td>1.329333</td>\n",
              "      <td>0.536057</td>\n",
              "    </tr>\n",
              "    <tr>\n",
              "      <th>4</th>\n",
              "      <td>1.245421</td>\n",
              "      <td>0.559543</td>\n",
              "    </tr>\n",
              "    <tr>\n",
              "      <th>...</th>\n",
              "      <td>...</td>\n",
              "      <td>...</td>\n",
              "    </tr>\n",
              "    <tr>\n",
              "      <th>95</th>\n",
              "      <td>0.032239</td>\n",
              "      <td>0.990114</td>\n",
              "    </tr>\n",
              "    <tr>\n",
              "      <th>96</th>\n",
              "      <td>0.031350</td>\n",
              "      <td>0.990800</td>\n",
              "    </tr>\n",
              "    <tr>\n",
              "      <th>97</th>\n",
              "      <td>0.031872</td>\n",
              "      <td>0.989829</td>\n",
              "    </tr>\n",
              "    <tr>\n",
              "      <th>98</th>\n",
              "      <td>0.027423</td>\n",
              "      <td>0.992000</td>\n",
              "    </tr>\n",
              "    <tr>\n",
              "      <th>99</th>\n",
              "      <td>0.032049</td>\n",
              "      <td>0.990057</td>\n",
              "    </tr>\n",
              "  </tbody>\n",
              "</table>\n",
              "<p>100 rows × 2 columns</p>\n",
              "</div>"
            ],
            "text/plain": [
              "        loss  accuracy\n",
              "0   1.749619  0.361543\n",
              "1   1.536217  0.454286\n",
              "2   1.422057  0.498286\n",
              "3   1.329333  0.536057\n",
              "4   1.245421  0.559543\n",
              "..       ...       ...\n",
              "95  0.032239  0.990114\n",
              "96  0.031350  0.990800\n",
              "97  0.031872  0.989829\n",
              "98  0.027423  0.992000\n",
              "99  0.032049  0.990057\n",
              "\n",
              "[100 rows x 2 columns]"
            ]
          },
          "metadata": {
            "tags": []
          },
          "execution_count": 12
        }
      ]
    },
    {
      "cell_type": "code",
      "metadata": {
        "colab": {
          "base_uri": "https://localhost:8080/",
          "height": 608
        },
        "id": "sF99UV3iU0Pk",
        "outputId": "7d06569c-16e3-4fbb-9e83-ca765f57bfdf"
      },
      "source": [
        "history.plot.line(figsize=(16,10),)"
      ],
      "id": "sF99UV3iU0Pk",
      "execution_count": 13,
      "outputs": [
        {
          "output_type": "execute_result",
          "data": {
            "text/plain": [
              "<matplotlib.axes._subplots.AxesSubplot at 0x7f539a459250>"
            ]
          },
          "metadata": {
            "tags": []
          },
          "execution_count": 13
        },
        {
          "output_type": "display_data",
          "data": {
            "image/png": "[encoded data removed]",
            "text/plain": [
              "<Figure size 1152x720 with 1 Axes>"
            ]
          },
          "metadata": {
            "tags": [],
            "needs_background": "light"
          }
        }
      ]
    },
    {
      "cell_type": "code",
      "metadata": {
        "id": "f4SFiPXTVQxl"
      },
      "source": [
        "ypred = np.argmax(AlexNet.predict(xtest_1),axis=1)\n",
        "\n",
        "ytrain = np.argmax(ytrain,axis=1)\n",
        "ytrain_new_50 = np.argmax(ytrain_new_50,axis=1)\n",
        "ytrain_1 = np.argmax(ytrain_1,axis=1)\n",
        "\n",
        "ytest = np.argmax(ytest,axis=1)\n",
        "ytest_new_50 = np.argmax(ytest_new_50,axis=1)\n",
        "ytest_1 = np.argmax(ytest_1,axis=1)"
      ],
      "id": "f4SFiPXTVQxl",
      "execution_count": 14,
      "outputs": []
    },
    {
      "cell_type": "code",
      "metadata": {
        "colab": {
          "base_uri": "https://localhost:8080/"
        },
        "id": "3fQSlrdIWPYt",
        "outputId": "3d70b62a-3ead-400f-c0b9-fb06ef4b7bd5"
      },
      "source": [
        "from sklearn.metrics import confusion_matrix,classification_report,accuracy_score\n",
        "accuracy_score(ypred,ytest_1)"
      ],
      "id": "3fQSlrdIWPYt",
      "execution_count": 15,
      "outputs": [
        {
          "output_type": "execute_result",
          "data": {
            "text/plain": [
              "0.5650666666666667"
            ]
          },
          "metadata": {
            "tags": []
          },
          "execution_count": 15
        }
      ]
    },
    {
      "cell_type": "code",
      "metadata": {
        "id": "zVpu9jY7Zrfg"
      },
      "source": [
        "ytrain = to_categorical(ytrain,10)\n",
        "ytrain_new_50 = to_categorical(ytrain_new_50,10)\n",
        "ytrain_1 = to_categorical(ytrain_1,10)\n",
        "\n",
        "ytest = to_categorical(ytest,10)\n",
        "ytest_new_50 = to_categorical(ytest_new_50,10)\n",
        "ytest_1 = to_categorical(ytest_1,10)"
      ],
      "id": "zVpu9jY7Zrfg",
      "execution_count": 16,
      "outputs": []
    },
    {
      "cell_type": "code",
      "metadata": {
        "colab": {
          "base_uri": "https://localhost:8080/"
        },
        "id": "Dn3hv2WjWhmq",
        "outputId": "1b379503-3291-4adc-f055-79dca54685b6"
      },
      "source": [
        "history =AlexNet.fit(xtrain,ytrain,epochs=100,batch_size=32)"
      ],
      "id": "Dn3hv2WjWhmq",
      "execution_count": 17,
      "outputs": [
        {
          "output_type": "stream",
          "text": [
            "Epoch 1/100\n",
            "1563/1563 [==============================] - 20s 13ms/step - loss: 0.8553 - accuracy: 0.7369\n",
            "Epoch 2/100\n",
            "1563/1563 [==============================] - 20s 13ms/step - loss: 0.6615 - accuracy: 0.7933\n",
            "Epoch 3/100\n",
            "1563/1563 [==============================] - 20s 13ms/step - loss: 0.5335 - accuracy: 0.8344\n",
            "Epoch 4/100\n",
            "1563/1563 [==============================] - 20s 13ms/step - loss: 0.4304 - accuracy: 0.8664\n",
            "Epoch 5/100\n",
            "1563/1563 [==============================] - 20s 13ms/step - loss: 0.3458 - accuracy: 0.8939\n",
            "Epoch 6/100\n",
            "1563/1563 [==============================] - 20s 13ms/step - loss: 0.2831 - accuracy: 0.9126\n",
            "Epoch 7/100\n",
            "1563/1563 [==============================] - 20s 13ms/step - loss: 0.2330 - accuracy: 0.9264\n",
            "Epoch 8/100\n",
            "1563/1563 [==============================] - 20s 13ms/step - loss: 0.1898 - accuracy: 0.9396\n",
            "Epoch 9/100\n",
            "1563/1563 [==============================] - 20s 13ms/step - loss: 0.1634 - accuracy: 0.9495\n",
            "Epoch 10/100\n",
            "1563/1563 [==============================] - 20s 13ms/step - loss: 0.1433 - accuracy: 0.9547\n",
            "Epoch 11/100\n",
            "1563/1563 [==============================] - 20s 13ms/step - loss: 0.1313 - accuracy: 0.9574\n",
            "Epoch 12/100\n",
            "1563/1563 [==============================] - 20s 13ms/step - loss: 0.1149 - accuracy: 0.9639\n",
            "Epoch 13/100\n",
            "1563/1563 [==============================] - 20s 13ms/step - loss: 0.1059 - accuracy: 0.9671\n",
            "Epoch 14/100\n",
            "1563/1563 [==============================] - 20s 13ms/step - loss: 0.0962 - accuracy: 0.9696\n",
            "Epoch 15/100\n",
            "1563/1563 [==============================] - 20s 13ms/step - loss: 0.0950 - accuracy: 0.9690\n",
            "Epoch 16/100\n",
            "1563/1563 [==============================] - 20s 13ms/step - loss: 0.0855 - accuracy: 0.9725\n",
            "Epoch 17/100\n",
            "1563/1563 [==============================] - 20s 13ms/step - loss: 0.0828 - accuracy: 0.9736\n",
            "Epoch 18/100\n",
            "1563/1563 [==============================] - 20s 13ms/step - loss: 0.0777 - accuracy: 0.9756\n",
            "Epoch 19/100\n",
            "1563/1563 [==============================] - 20s 13ms/step - loss: 0.0771 - accuracy: 0.9754\n",
            "Epoch 20/100\n",
            "1563/1563 [==============================] - 20s 13ms/step - loss: 0.0726 - accuracy: 0.9773\n",
            "Epoch 21/100\n",
            "1563/1563 [==============================] - 20s 13ms/step - loss: 0.0708 - accuracy: 0.9765\n",
            "Epoch 22/100\n",
            "1563/1563 [==============================] - 20s 13ms/step - loss: 0.0648 - accuracy: 0.9792\n",
            "Epoch 23/100\n",
            "1563/1563 [==============================] - 20s 13ms/step - loss: 0.0649 - accuracy: 0.9794\n",
            "Epoch 24/100\n",
            "1563/1563 [==============================] - 20s 13ms/step - loss: 0.0624 - accuracy: 0.9805\n",
            "Epoch 25/100\n",
            "1563/1563 [==============================] - 20s 13ms/step - loss: 0.0602 - accuracy: 0.9801\n",
            "Epoch 26/100\n",
            "1563/1563 [==============================] - 20s 13ms/step - loss: 0.0594 - accuracy: 0.9809\n",
            "Epoch 27/100\n",
            "1563/1563 [==============================] - 20s 13ms/step - loss: 0.0550 - accuracy: 0.9823\n",
            "Epoch 28/100\n",
            "1563/1563 [==============================] - 20s 13ms/step - loss: 0.0555 - accuracy: 0.9822\n",
            "Epoch 29/100\n",
            "1563/1563 [==============================] - 20s 13ms/step - loss: 0.0502 - accuracy: 0.9836\n",
            "Epoch 30/100\n",
            "1563/1563 [==============================] - 20s 13ms/step - loss: 0.0540 - accuracy: 0.9827\n",
            "Epoch 31/100\n",
            "1563/1563 [==============================] - 20s 13ms/step - loss: 0.0487 - accuracy: 0.9839\n",
            "Epoch 32/100\n",
            "1563/1563 [==============================] - 20s 13ms/step - loss: 0.0509 - accuracy: 0.9836\n",
            "Epoch 33/100\n",
            "1563/1563 [==============================] - 20s 13ms/step - loss: 0.0472 - accuracy: 0.9851\n",
            "Epoch 34/100\n",
            "1563/1563 [==============================] - 20s 13ms/step - loss: 0.0446 - accuracy: 0.9857\n",
            "Epoch 35/100\n",
            "1563/1563 [==============================] - 20s 13ms/step - loss: 0.0479 - accuracy: 0.9848\n",
            "Epoch 36/100\n",
            "1563/1563 [==============================] - 20s 13ms/step - loss: 0.0439 - accuracy: 0.9859\n",
            "Epoch 37/100\n",
            "1563/1563 [==============================] - 20s 13ms/step - loss: 0.0443 - accuracy: 0.9852\n",
            "Epoch 38/100\n",
            "1563/1563 [==============================] - 20s 13ms/step - loss: 0.0410 - accuracy: 0.9870\n",
            "Epoch 39/100\n",
            "1563/1563 [==============================] - 20s 13ms/step - loss: 0.0437 - accuracy: 0.9860\n",
            "Epoch 40/100\n",
            "1563/1563 [==============================] - 20s 13ms/step - loss: 0.0402 - accuracy: 0.9870\n",
            "Epoch 41/100\n",
            "1563/1563 [==============================] - 20s 13ms/step - loss: 0.0417 - accuracy: 0.9863\n",
            "Epoch 42/100\n",
            "1563/1563 [==============================] - 20s 13ms/step - loss: 0.0402 - accuracy: 0.9870\n",
            "Epoch 43/100\n",
            "1563/1563 [==============================] - 20s 13ms/step - loss: 0.0394 - accuracy: 0.9878\n",
            "Epoch 44/100\n",
            "1563/1563 [==============================] - 20s 13ms/step - loss: 0.0396 - accuracy: 0.9878\n",
            "Epoch 45/100\n",
            "1563/1563 [==============================] - 20s 13ms/step - loss: 0.0375 - accuracy: 0.9882\n",
            "Epoch 46/100\n",
            "1563/1563 [==============================] - 20s 13ms/step - loss: 0.0338 - accuracy: 0.9890\n",
            "Epoch 47/100\n",
            "1563/1563 [==============================] - 20s 13ms/step - loss: 0.0407 - accuracy: 0.9873\n",
            "Epoch 48/100\n",
            "1563/1563 [==============================] - 20s 13ms/step - loss: 0.0356 - accuracy: 0.9890\n",
            "Epoch 49/100\n",
            "1563/1563 [==============================] - 20s 13ms/step - loss: 0.0332 - accuracy: 0.9898\n",
            "Epoch 50/100\n",
            "1563/1563 [==============================] - 20s 13ms/step - loss: 0.0353 - accuracy: 0.9882\n",
            "Epoch 51/100\n",
            "1563/1563 [==============================] - 20s 13ms/step - loss: 0.0340 - accuracy: 0.9891\n",
            "Epoch 52/100\n",
            "1563/1563 [==============================] - 20s 13ms/step - loss: 0.0327 - accuracy: 0.9893\n",
            "Epoch 53/100\n",
            "1563/1563 [==============================] - 20s 13ms/step - loss: 0.0327 - accuracy: 0.9896\n",
            "Epoch 54/100\n",
            "1563/1563 [==============================] - 20s 13ms/step - loss: 0.0321 - accuracy: 0.9901\n",
            "Epoch 55/100\n",
            "1563/1563 [==============================] - 20s 13ms/step - loss: 0.0305 - accuracy: 0.9901\n",
            "Epoch 56/100\n",
            "1563/1563 [==============================] - 20s 13ms/step - loss: 0.0306 - accuracy: 0.9906\n",
            "Epoch 57/100\n",
            "1563/1563 [==============================] - 20s 13ms/step - loss: 0.0308 - accuracy: 0.9900\n",
            "Epoch 58/100\n",
            "1563/1563 [==============================] - 20s 13ms/step - loss: 0.0304 - accuracy: 0.9905\n",
            "Epoch 59/100\n",
            "1563/1563 [==============================] - 20s 13ms/step - loss: 0.0298 - accuracy: 0.9905\n",
            "Epoch 60/100\n",
            "1563/1563 [==============================] - 20s 13ms/step - loss: 0.0300 - accuracy: 0.9906\n",
            "Epoch 61/100\n",
            "1563/1563 [==============================] - 20s 13ms/step - loss: 0.0294 - accuracy: 0.9906\n",
            "Epoch 62/100\n",
            "1563/1563 [==============================] - 20s 13ms/step - loss: 0.0270 - accuracy: 0.9912\n",
            "Epoch 63/100\n",
            "1563/1563 [==============================] - 20s 13ms/step - loss: 0.0297 - accuracy: 0.9899\n",
            "Epoch 64/100\n",
            "1563/1563 [==============================] - 20s 13ms/step - loss: 0.0268 - accuracy: 0.9911\n",
            "Epoch 65/100\n",
            "1563/1563 [==============================] - 20s 13ms/step - loss: 0.0287 - accuracy: 0.9907\n",
            "Epoch 66/100\n",
            "1563/1563 [==============================] - 20s 13ms/step - loss: 0.0248 - accuracy: 0.9922\n",
            "Epoch 67/100\n",
            "1563/1563 [==============================] - 20s 13ms/step - loss: 0.0265 - accuracy: 0.9912\n",
            "Epoch 68/100\n",
            "1563/1563 [==============================] - 20s 13ms/step - loss: 0.0293 - accuracy: 0.9907\n",
            "Epoch 69/100\n",
            "1563/1563 [==============================] - 20s 13ms/step - loss: 0.0239 - accuracy: 0.9927\n",
            "Epoch 70/100\n",
            "1563/1563 [==============================] - 20s 13ms/step - loss: 0.0280 - accuracy: 0.9911\n",
            "Epoch 71/100\n",
            "1563/1563 [==============================] - 20s 13ms/step - loss: 0.0267 - accuracy: 0.9912\n",
            "Epoch 72/100\n",
            "1563/1563 [==============================] - 20s 13ms/step - loss: 0.0258 - accuracy: 0.9918\n",
            "Epoch 73/100\n",
            "1563/1563 [==============================] - 20s 13ms/step - loss: 0.0226 - accuracy: 0.9927\n",
            "Epoch 74/100\n",
            "1563/1563 [==============================] - 20s 13ms/step - loss: 0.0243 - accuracy: 0.9922\n",
            "Epoch 75/100\n",
            "1563/1563 [==============================] - 20s 13ms/step - loss: 0.0241 - accuracy: 0.9928\n",
            "Epoch 76/100\n",
            "1563/1563 [==============================] - 20s 13ms/step - loss: 0.0238 - accuracy: 0.9923\n",
            "Epoch 77/100\n",
            "1563/1563 [==============================] - 20s 13ms/step - loss: 0.0222 - accuracy: 0.9928\n",
            "Epoch 78/100\n",
            "1563/1563 [==============================] - 20s 13ms/step - loss: 0.0226 - accuracy: 0.9927\n",
            "Epoch 79/100\n",
            "1563/1563 [==============================] - 20s 13ms/step - loss: 0.0219 - accuracy: 0.9928\n",
            "Epoch 80/100\n",
            "1563/1563 [==============================] - 20s 13ms/step - loss: 0.0227 - accuracy: 0.9927\n",
            "Epoch 81/100\n",
            "1563/1563 [==============================] - 20s 13ms/step - loss: 0.0240 - accuracy: 0.9922\n",
            "Epoch 82/100\n",
            "1563/1563 [==============================] - 20s 13ms/step - loss: 0.0218 - accuracy: 0.9929\n",
            "Epoch 83/100\n",
            "1563/1563 [==============================] - 20s 13ms/step - loss: 0.0214 - accuracy: 0.9931\n",
            "Epoch 84/100\n",
            "1563/1563 [==============================] - 20s 13ms/step - loss: 0.0205 - accuracy: 0.9937\n",
            "Epoch 85/100\n",
            "1563/1563 [==============================] - 20s 13ms/step - loss: 0.0229 - accuracy: 0.9928\n",
            "Epoch 86/100\n",
            "1563/1563 [==============================] - 20s 13ms/step - loss: 0.0191 - accuracy: 0.9939\n",
            "Epoch 87/100\n",
            "1563/1563 [==============================] - 20s 13ms/step - loss: 0.0210 - accuracy: 0.9936\n",
            "Epoch 88/100\n",
            "1563/1563 [==============================] - 20s 13ms/step - loss: 0.0228 - accuracy: 0.9930\n",
            "Epoch 89/100\n",
            "1563/1563 [==============================] - 20s 13ms/step - loss: 0.0201 - accuracy: 0.9934\n",
            "Epoch 90/100\n",
            "1563/1563 [==============================] - 20s 13ms/step - loss: 0.0222 - accuracy: 0.9928\n",
            "Epoch 91/100\n",
            "1563/1563 [==============================] - 20s 13ms/step - loss: 0.0211 - accuracy: 0.9934\n",
            "Epoch 92/100\n",
            "1563/1563 [==============================] - 20s 13ms/step - loss: 0.0210 - accuracy: 0.9931\n",
            "Epoch 93/100\n",
            "1563/1563 [==============================] - 20s 13ms/step - loss: 0.0199 - accuracy: 0.9938\n",
            "Epoch 94/100\n",
            "1563/1563 [==============================] - 20s 13ms/step - loss: 0.0189 - accuracy: 0.9935\n",
            "Epoch 95/100\n",
            "1563/1563 [==============================] - 20s 13ms/step - loss: 0.0178 - accuracy: 0.9945\n",
            "Epoch 96/100\n",
            "1563/1563 [==============================] - 20s 13ms/step - loss: 0.0222 - accuracy: 0.9934\n",
            "Epoch 97/100\n",
            "1563/1563 [==============================] - 20s 13ms/step - loss: 0.0186 - accuracy: 0.9941\n",
            "Epoch 98/100\n",
            "1563/1563 [==============================] - 20s 13ms/step - loss: 0.0198 - accuracy: 0.9939\n",
            "Epoch 99/100\n",
            "1563/1563 [==============================] - 20s 13ms/step - loss: 0.0188 - accuracy: 0.9940\n",
            "Epoch 100/100\n",
            "1563/1563 [==============================] - 20s 13ms/step - loss: 0.0190 - accuracy: 0.9940\n"
          ],
          "name": "stdout"
        }
      ]
    },
    {
      "cell_type": "code",
      "metadata": {
        "id": "Vw9-BaP3Z17C"
      },
      "source": [
        "history = pd.DataFrame(history.history)"
      ],
      "id": "Vw9-BaP3Z17C",
      "execution_count": 18,
      "outputs": []
    },
    {
      "cell_type": "code",
      "metadata": {
        "colab": {
          "base_uri": "https://localhost:8080/",
          "height": 406
        },
        "id": "RQ-2JBr5ZmNA",
        "outputId": "afda42df-5174-4916-d4e2-2a5265f73ea8"
      },
      "source": [
        "history"
      ],
      "id": "RQ-2JBr5ZmNA",
      "execution_count": 19,
      "outputs": [
        {
          "output_type": "execute_result",
          "data": {
            "text/html": [
              "<div>\n",
              "<style scoped>\n",
              "    .dataframe tbody tr th:only-of-type {\n",
              "        vertical-align: middle;\n",
              "    }\n",
              "\n",
              "    .dataframe tbody tr th {\n",
              "        vertical-align: top;\n",
              "    }\n",
              "\n",
              "    .dataframe thead th {\n",
              "        text-align: right;\n",
              "    }\n",
              "</style>\n",
              "<table border=\"1\" class=\"dataframe\">\n",
              "  <thead>\n",
              "    <tr style=\"text-align: right;\">\n",
              "      <th></th>\n",
              "      <th>loss</th>\n",
              "      <th>accuracy</th>\n",
              "    </tr>\n",
              "  </thead>\n",
              "  <tbody>\n",
              "    <tr>\n",
              "      <th>0</th>\n",
              "      <td>0.855332</td>\n",
              "      <td>0.73690</td>\n",
              "    </tr>\n",
              "    <tr>\n",
              "      <th>1</th>\n",
              "      <td>0.661502</td>\n",
              "      <td>0.79328</td>\n",
              "    </tr>\n",
              "    <tr>\n",
              "      <th>2</th>\n",
              "      <td>0.533495</td>\n",
              "      <td>0.83442</td>\n",
              "    </tr>\n",
              "    <tr>\n",
              "      <th>3</th>\n",
              "      <td>0.430364</td>\n",
              "      <td>0.86640</td>\n",
              "    </tr>\n",
              "    <tr>\n",
              "      <th>4</th>\n",
              "      <td>0.345819</td>\n",
              "      <td>0.89390</td>\n",
              "    </tr>\n",
              "    <tr>\n",
              "      <th>...</th>\n",
              "      <td>...</td>\n",
              "      <td>...</td>\n",
              "    </tr>\n",
              "    <tr>\n",
              "      <th>95</th>\n",
              "      <td>0.022198</td>\n",
              "      <td>0.99338</td>\n",
              "    </tr>\n",
              "    <tr>\n",
              "      <th>96</th>\n",
              "      <td>0.018639</td>\n",
              "      <td>0.99414</td>\n",
              "    </tr>\n",
              "    <tr>\n",
              "      <th>97</th>\n",
              "      <td>0.019822</td>\n",
              "      <td>0.99392</td>\n",
              "    </tr>\n",
              "    <tr>\n",
              "      <th>98</th>\n",
              "      <td>0.018850</td>\n",
              "      <td>0.99404</td>\n",
              "    </tr>\n",
              "    <tr>\n",
              "      <th>99</th>\n",
              "      <td>0.018977</td>\n",
              "      <td>0.99400</td>\n",
              "    </tr>\n",
              "  </tbody>\n",
              "</table>\n",
              "<p>100 rows × 2 columns</p>\n",
              "</div>"
            ],
            "text/plain": [
              "        loss  accuracy\n",
              "0   0.855332   0.73690\n",
              "1   0.661502   0.79328\n",
              "2   0.533495   0.83442\n",
              "3   0.430364   0.86640\n",
              "4   0.345819   0.89390\n",
              "..       ...       ...\n",
              "95  0.022198   0.99338\n",
              "96  0.018639   0.99414\n",
              "97  0.019822   0.99392\n",
              "98  0.018850   0.99404\n",
              "99  0.018977   0.99400\n",
              "\n",
              "[100 rows x 2 columns]"
            ]
          },
          "metadata": {
            "tags": []
          },
          "execution_count": 19
        }
      ]
    },
    {
      "cell_type": "code",
      "metadata": {
        "colab": {
          "base_uri": "https://localhost:8080/",
          "height": 608
        },
        "id": "tNFWb2AXZ8w4",
        "outputId": "1ea26aeb-40b3-4dd4-8e62-75c4a9462ec1"
      },
      "source": [
        "history.plot.line(figsize=(16,10))"
      ],
      "id": "tNFWb2AXZ8w4",
      "execution_count": 20,
      "outputs": [
        {
          "output_type": "execute_result",
          "data": {
            "text/plain": [
              "<matplotlib.axes._subplots.AxesSubplot at 0x7f53d01a0a90>"
            ]
          },
          "metadata": {
            "tags": []
          },
          "execution_count": 20
        },
        {
          "output_type": "display_data",
          "data": {
            "image/png": "[encoded data removed]",
            "text/plain": [
              "<Figure size 1152x720 with 1 Axes>"
            ]
          },
          "metadata": {
            "tags": [],
            "needs_background": "light"
          }
        }
      ]
    },
    {
      "cell_type": "code",
      "metadata": {
        "id": "HjxlvVTcZ-K4"
      },
      "source": [
        "ypred = np.argmax(AlexNet.predict(xtest),axis=1)\n",
        "\n",
        "ytrain = np.argmax(ytrain,axis=1)\n",
        "ytrain_new_50 = np.argmax(ytrain_new_50,axis=1)\n",
        "ytrain_1 = np.argmax(ytrain_1,axis=1)\n",
        "\n",
        "ytest = np.argmax(ytest,axis=1)\n",
        "ytest_new_50 = np.argmax(ytest_new_50,axis=1)\n",
        "ytest_1 = np.argmax(ytest_1,axis=1)"
      ],
      "id": "HjxlvVTcZ-K4",
      "execution_count": 21,
      "outputs": []
    },
    {
      "cell_type": "code",
      "metadata": {
        "colab": {
          "base_uri": "https://localhost:8080/"
        },
        "id": "sghfF6u0aCYp",
        "outputId": "e5fd7287-2736-474b-f26d-0f5b73b55733"
      },
      "source": [
        "from sklearn.metrics import confusion_matrix,classification_report,accuracy_score\n",
        "accuracy_score(ypred,ytest)"
      ],
      "id": "sghfF6u0aCYp",
      "execution_count": 22,
      "outputs": [
        {
          "output_type": "execute_result",
          "data": {
            "text/plain": [
              "0.6501"
            ]
          },
          "metadata": {
            "tags": []
          },
          "execution_count": 22
        }
      ]
    }
  ]
}