{
 "cells": [
  {
   "cell_type": "code",
   "execution_count": 1,
   "id": "independent-console",
   "metadata": {},
   "outputs": [],
   "source": [
    "import numpy as np\n",
    "import pandas as pd\n",
    "import matplotlib.pyplot as plt\n",
    "from keras.datasets import cifar10"
   ]
  },
  {
   "cell_type": "code",
   "execution_count": 2,
   "id": "spatial-eleven",
   "metadata": {},
   "outputs": [],
   "source": [
    "(xtrain,ytrain),(xtest,ytest) = cifar10.load_data()"
   ]
  },
  {
   "cell_type": "code",
   "execution_count": 3,
   "id": "north-middle",
   "metadata": {},
   "outputs": [
    {
     "name": "stdout",
     "output_type": "stream",
     "text": [
      "xtrain :-  (50000, 32, 32, 3)\n",
      "ytrain :-  (50000, 1)\n",
      "xtest  :-  (10000, 32, 32, 3)\n",
      "ytest  :-  (10000, 1)\n"
     ]
    }
   ],
   "source": [
    "print(\"xtrain :- \",xtrain.shape)\n",
    "print(\"ytrain :- \",ytrain.shape)\n",
    "print(\"xtest  :- \",xtest.shape)\n",
    "print(\"ytest  :- \",ytest.shape)"
   ]
  },
  {
   "cell_type": "code",
   "execution_count": 4,
   "id": "comic-nancy",
   "metadata": {},
   "outputs": [],
   "source": [
    "from keras.utils import to_categorical\n",
    "ytrain =to_categorical(ytrain) \n",
    "ytest = to_categorical(ytest)"
   ]
  },
  {
   "cell_type": "code",
   "execution_count": 5,
   "id": "united-newark",
   "metadata": {},
   "outputs": [],
   "source": [
    "from keras.layers import AveragePooling2D,Conv2D,Dense,Activation,Flatten\n",
    "from keras.models import Sequential"
   ]
  },
  {
   "cell_type": "code",
   "execution_count": 6,
   "id": "local-miracle",
   "metadata": {},
   "outputs": [
    {
     "data": {
      "text/plain": [
       "(32, 32, 3)"
      ]
     },
     "execution_count": 6,
     "metadata": {},
     "output_type": "execute_result"
    }
   ],
   "source": [
    "xtrain.shape[-3:]"
   ]
  },
  {
   "cell_type": "code",
   "execution_count": 7,
   "id": "alpine-andorra",
   "metadata": {},
   "outputs": [
    {
     "name": "stdout",
     "output_type": "stream",
     "text": [
      "Model: \"sequential\"\n",
      "_________________________________________________________________\n",
      "Layer (type)                 Output Shape              Param #   \n",
      "=================================================================\n",
      "conv2d (Conv2D)              (None, 15, 15, 64)        1792      \n",
      "_________________________________________________________________\n",
      "average_pooling2d (AveragePo (None, 7, 7, 64)          0         \n",
      "_________________________________________________________________\n",
      "conv2d_1 (Conv2D)            (None, 5, 5, 20)          11540     \n",
      "_________________________________________________________________\n",
      "average_pooling2d_1 (Average (None, 2, 2, 20)          0         \n",
      "_________________________________________________________________\n",
      "flatten (Flatten)            (None, 80)                0         \n",
      "_________________________________________________________________\n",
      "dense (Dense)                (None, 16)                1296      \n",
      "_________________________________________________________________\n",
      "dense_1 (Dense)              (None, 12)                204       \n",
      "_________________________________________________________________\n",
      "dense_2 (Dense)              (None, 10)                130       \n",
      "_________________________________________________________________\n",
      "activation (Activation)      (None, 10)                0         \n",
      "=================================================================\n",
      "Total params: 14,962\n",
      "Trainable params: 14,962\n",
      "Non-trainable params: 0\n",
      "_________________________________________________________________\n"
     ]
    }
   ],
   "source": [
    "model = Sequential()\n",
    "model.add(Conv2D(64,kernel_size=(3,3),strides = (2,2),input_shape=xtrain.shape[1:]))\n",
    "model.add(AveragePooling2D((2,2)))\n",
    "model.add(Conv2D(20,(3,3)))\n",
    "model.add(AveragePooling2D((2,2)))\n",
    "model.add(Flatten())\n",
    "model.add(Dense(16))\n",
    "model.add(Dense(12))\n",
    "model.add(Dense(10,))\n",
    "model.add(Activation('softmax'))\n",
    "model.compile(loss = 'categorical_crossentropy', optimizer= 'adam', metrics=['accuracy'])\n",
    "model.summary()"
   ]
  },
  {
   "cell_type": "code",
   "execution_count": 8,
   "id": "rubber-surgery",
   "metadata": {},
   "outputs": [
    {
     "name": "stdout",
     "output_type": "stream",
     "text": [
      "Epoch 1/5\n",
      "196/196 [==============================] - 10s 49ms/step - loss: 8.9491 - accuracy: 0.1884\n",
      "Epoch 2/5\n",
      "196/196 [==============================] - 10s 49ms/step - loss: 2.6931 - accuracy: 0.2385\n",
      "Epoch 3/5\n",
      "196/196 [==============================] - 9s 48ms/step - loss: 2.2192 - accuracy: 0.2716\n",
      "Epoch 4/5\n",
      "196/196 [==============================] - 9s 47ms/step - loss: 2.0673 - accuracy: 0.2936\n",
      "Epoch 5/5\n",
      "196/196 [==============================] - 9s 48ms/step - loss: 2.0144 - accuracy: 0.3048\n"
     ]
    }
   ],
   "source": [
    "history = model.fit(xtrain,ytrain,batch_size=256,epochs=25)"
   ]
  },
  {
   "cell_type": "code",
   "execution_count": 9,
   "id": "cognitive-flight",
   "metadata": {},
   "outputs": [
    {
     "data": {
      "text/html": [
       "<div>\n",
       "<style scoped>\n",
       "    .dataframe tbody tr th:only-of-type {\n",
       "        vertical-align: middle;\n",
       "    }\n",
       "\n",
       "    .dataframe tbody tr th {\n",
       "        vertical-align: top;\n",
       "    }\n",
       "\n",
       "    .dataframe thead th {\n",
       "        text-align: right;\n",
       "    }\n",
       "</style>\n",
       "<table border=\"1\" class=\"dataframe\">\n",
       "  <thead>\n",
       "    <tr style=\"text-align: right;\">\n",
       "      <th></th>\n",
       "      <th>loss</th>\n",
       "      <th>accuracy</th>\n",
       "    </tr>\n",
       "  </thead>\n",
       "  <tbody>\n",
       "    <tr>\n",
       "      <th>0</th>\n",
       "      <td>8.949071</td>\n",
       "      <td>0.18836</td>\n",
       "    </tr>\n",
       "    <tr>\n",
       "      <th>1</th>\n",
       "      <td>2.693061</td>\n",
       "      <td>0.23854</td>\n",
       "    </tr>\n",
       "    <tr>\n",
       "      <th>2</th>\n",
       "      <td>2.219211</td>\n",
       "      <td>0.27164</td>\n",
       "    </tr>\n",
       "    <tr>\n",
       "      <th>3</th>\n",
       "      <td>2.067294</td>\n",
       "      <td>0.29360</td>\n",
       "    </tr>\n",
       "    <tr>\n",
       "      <th>4</th>\n",
       "      <td>2.014408</td>\n",
       "      <td>0.30484</td>\n",
       "    </tr>\n",
       "  </tbody>\n",
       "</table>\n",
       "</div>"
      ],
      "text/plain": [
       "       loss  accuracy\n",
       "0  8.949071   0.18836\n",
       "1  2.693061   0.23854\n",
       "2  2.219211   0.27164\n",
       "3  2.067294   0.29360\n",
       "4  2.014408   0.30484"
      ]
     },
     "execution_count": 9,
     "metadata": {},
     "output_type": "execute_result"
    }
   ],
   "source": [
    "history = pd.DataFrame(history.history)\n",
    "history"
   ]
  },
  {
   "cell_type": "code",
   "execution_count": 10,
   "id": "framed-quantity",
   "metadata": {},
   "outputs": [
    {
     "data": {
      "text/plain": [
       "<AxesSubplot:title={'center':'Loss'}>"
      ]
     },
     "execution_count": 10,
     "metadata": {},
     "output_type": "execute_result"
    },
    {
     "data": {
      "image/png": "[encoded data removed]",
      "text/plain": [
       "<Figure size 576x576 with 1 Axes>"
      ]
     },
     "metadata": {
      "needs_background": "light"
     },
     "output_type": "display_data"
    }
   ],
   "source": [
    "history.loss.plot.line(figsize=(8,8),title = \"Loss\",grid = \"whitegrid\",)"
   ]
  },
  {
   "cell_type": "code",
   "execution_count": 11,
   "id": "unknown-backup",
   "metadata": {},
   "outputs": [
    {
     "data": {
      "text/plain": [
       "<AxesSubplot:title={'center':'Accuracy'}>"
      ]
     },
     "execution_count": 11,
     "metadata": {},
     "output_type": "execute_result"
    },
    {
     "data": {
      "image/png": "[encoded data removed]",
      "text/plain": [
       "<Figure size 576x576 with 1 Axes>"
      ]
     },
     "metadata": {
      "needs_background": "light"
     },
     "output_type": "display_data"
    }
   ],
   "source": [
    "history.accuracy.plot.line(figsize=(8,8),title = \"Accuracy\",grid = \"whitegrid\")"
   ]
  },
  {
   "cell_type": "code",
   "execution_count": 12,
   "id": "increased-submission",
   "metadata": {},
   "outputs": [],
   "source": [
    "predictions = np.argmax(model.predict(xtest),axis=1)"
   ]
  },
  {
   "cell_type": "code",
   "execution_count": 13,
   "id": "endless-contrary",
   "metadata": {},
   "outputs": [
    {
     "data": {
      "text/plain": [
       "array([3, 8, 8, ..., 3, 6, 7], dtype=int64)"
      ]
     },
     "execution_count": 13,
     "metadata": {},
     "output_type": "execute_result"
    }
   ],
   "source": [
    "predictions"
   ]
  },
  {
   "cell_type": "code",
   "execution_count": 14,
   "id": "brilliant-oakland",
   "metadata": {},
   "outputs": [],
   "source": [
    "ytest = np.argmax(ytest,axis=1)"
   ]
  },
  {
   "cell_type": "code",
   "execution_count": 15,
   "id": "arabic-processor",
   "metadata": {},
   "outputs": [
    {
     "name": "stdout",
     "output_type": "stream",
     "text": [
      "0.3041\n"
     ]
    }
   ],
   "source": [
    "from sklearn.metrics import accuracy_score,confusion_matrix\n",
    "print(accuracy_score(predictions,ytest))"
   ]
  },
  {
   "cell_type": "code",
   "execution_count": 16,
   "id": "essential-absolute",
   "metadata": {},
   "outputs": [
    {
     "name": "stdout",
     "output_type": "stream",
     "text": [
      "[[261  44  56  11  38  12   2  19  83  63]\n",
      " [ 13 207  17   9   6   7   6  10  17  64]\n",
      " [ 12   9  54  20  24   9   9  10   1   8]\n",
      " [202 161 273 438 211 418 185 259 151 117]\n",
      " [ 11  18  63  33 116  34  32  51   6  13]\n",
      " [ 13  31  47  66  23 134  16  31  27  23]\n",
      " [ 67 139 333 311 419 264 706 178  66 132]\n",
      " [ 41  30  68  27  86  45  14 294  26  42]\n",
      " [344 220  79  60  58  67  24 108 552 259]\n",
      " [ 36 141  10  25  19  10   6  40  71 279]]\n"
     ]
    }
   ],
   "source": [
    "print(confusion_matrix(predictions,ytest))"
   ]
  }
 ],
 "metadata": {
  "kernelspec": {
   "display_name": "Python 3",
   "language": "python",
   "name": "python3"
  },
  "language_info": {
   "codemirror_mode": {
    "name": "ipython",
    "version": 3
   },
   "file_extension": ".py",
   "mimetype": "text/x-python",
   "name": "python",
   "nbconvert_exporter": "python",
   "pygments_lexer": "ipython3",
   "version": "3.8.5"
  }
 },
 "nbformat": 4,
 "nbformat_minor": 5
}
